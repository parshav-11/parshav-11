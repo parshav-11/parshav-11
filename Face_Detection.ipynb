{
 "cells": [
  {
   "cell_type": "markdown",
   "id": "69a27375-14a6-438f-93f1-5dfe6ac9f1e1",
   "metadata": {},
   "source": [
    "<H1>SetUp"
   ]
  },
  {
   "cell_type": "markdown",
   "id": "4697173e-3cc6-4463-8319-e180ed73ca51",
   "metadata": {},
   "source": [
    "<H3>Import Dependencies"
   ]
  },
  {
   "cell_type": "code",
   "execution_count": 1,
   "id": "172768bc-c98d-43f0-84f8-cd3f9af6718d",
   "metadata": {},
   "outputs": [],
   "source": [
    "#Import standard Libraries\n",
    "import cv2\n",
    "import os\n",
    "import random\n",
    "import numpy as np\n",
    "from matplotlib import pyplot as plt"
   ]
  },
  {
   "cell_type": "code",
   "execution_count": 2,
   "id": "1c2fac55-39f5-4563-a74a-e6a4a7e683dc",
   "metadata": {},
   "outputs": [],
   "source": [
    "#Import tensorflow Libraries - Functional API\n",
    "from tensorflow.keras.models import Model\n",
    "from tensorflow.keras.layers import Layer, Conv2D, Dense, MaxPooling2D, Input, Flatten\n",
    "import tensorflow as tf"
   ]
  },
  {
   "cell_type": "markdown",
   "id": "2d74a724-e281-4b20-a452-38bef8dc4a3a",
   "metadata": {},
   "source": [
    "<H3>Set GPU growth"
   ]
  },
  {
   "cell_type": "code",
   "execution_count": 3,
   "id": "3ad78cb6-875c-4202-9919-5d22c67580a6",
   "metadata": {},
   "outputs": [],
   "source": [
    "#Avoid OOM errors by setting GPU Memory consumption growth\n",
    "gpus = tf.config.experimental.list_physical_devices('GPU')\n",
    "for gpu in gpus:\n",
    "    tf.config.experimental.set_memory_growth(gpu, True)"
   ]
  },
  {
   "cell_type": "code",
   "execution_count": 4,
   "id": "c30b604f",
   "metadata": {},
   "outputs": [
    {
     "data": {
      "text/plain": [
       "[]"
      ]
     },
     "execution_count": 4,
     "metadata": {},
     "output_type": "execute_result"
    }
   ],
   "source": [
    "gpus"
   ]
  },
  {
   "cell_type": "markdown",
   "id": "898c4441-76e1-428d-ab9d-84d57137b8ff",
   "metadata": {},
   "source": [
    "<h3>Create Folder Structures"
   ]
  },
  {
   "cell_type": "code",
   "execution_count": 4,
   "id": "2d043e87-64df-46f5-bfe7-78a19c729e67",
   "metadata": {},
   "outputs": [],
   "source": [
    "#Setup path\n",
    "POS_PATH = os.path.join('data', 'positive')\n",
    "NEG_PATH = os.path.join('data', 'negative')\n",
    "ANC_PATH = os.path.join('data', 'anchor')"
   ]
  },
  {
   "cell_type": "code",
   "execution_count": 5,
   "id": "f67ad2be-ead7-4fe5-be5a-458f6049eeee",
   "metadata": {},
   "outputs": [
    {
     "ename": "FileExistsError",
     "evalue": "[WinError 183] Cannot create a file when that file already exists: 'data\\\\positive'",
     "output_type": "error",
     "traceback": [
      "\u001b[1;31m---------------------------------------------------------------------------\u001b[0m",
      "\u001b[1;31mFileExistsError\u001b[0m                           Traceback (most recent call last)",
      "\u001b[1;32m<ipython-input-5-89d362dea939>\u001b[0m in \u001b[0;36m<module>\u001b[1;34m\u001b[0m\n\u001b[0;32m      1\u001b[0m \u001b[1;31m#Create Directories\u001b[0m\u001b[1;33m\u001b[0m\u001b[1;33m\u001b[0m\u001b[1;33m\u001b[0m\u001b[0m\n\u001b[1;32m----> 2\u001b[1;33m \u001b[0mos\u001b[0m\u001b[1;33m.\u001b[0m\u001b[0mmakedirs\u001b[0m\u001b[1;33m(\u001b[0m\u001b[0mPOS_PATH\u001b[0m\u001b[1;33m)\u001b[0m\u001b[1;33m\u001b[0m\u001b[1;33m\u001b[0m\u001b[0m\n\u001b[0m\u001b[0;32m      3\u001b[0m \u001b[0mos\u001b[0m\u001b[1;33m.\u001b[0m\u001b[0mmakedirs\u001b[0m\u001b[1;33m(\u001b[0m\u001b[0mNEG_PATH\u001b[0m\u001b[1;33m)\u001b[0m\u001b[1;33m\u001b[0m\u001b[1;33m\u001b[0m\u001b[0m\n\u001b[0;32m      4\u001b[0m \u001b[0mos\u001b[0m\u001b[1;33m.\u001b[0m\u001b[0mmakedirs\u001b[0m\u001b[1;33m(\u001b[0m\u001b[0mANC_PATH\u001b[0m\u001b[1;33m)\u001b[0m\u001b[1;33m\u001b[0m\u001b[1;33m\u001b[0m\u001b[0m\n",
      "\u001b[1;32m~\\anaconda3\\envs\\openvino_env\\lib\\os.py\u001b[0m in \u001b[0;36mmakedirs\u001b[1;34m(name, mode, exist_ok)\u001b[0m\n\u001b[0;32m    221\u001b[0m             \u001b[1;32mreturn\u001b[0m\u001b[1;33m\u001b[0m\u001b[1;33m\u001b[0m\u001b[0m\n\u001b[0;32m    222\u001b[0m     \u001b[1;32mtry\u001b[0m\u001b[1;33m:\u001b[0m\u001b[1;33m\u001b[0m\u001b[1;33m\u001b[0m\u001b[0m\n\u001b[1;32m--> 223\u001b[1;33m         \u001b[0mmkdir\u001b[0m\u001b[1;33m(\u001b[0m\u001b[0mname\u001b[0m\u001b[1;33m,\u001b[0m \u001b[0mmode\u001b[0m\u001b[1;33m)\u001b[0m\u001b[1;33m\u001b[0m\u001b[1;33m\u001b[0m\u001b[0m\n\u001b[0m\u001b[0;32m    224\u001b[0m     \u001b[1;32mexcept\u001b[0m \u001b[0mOSError\u001b[0m\u001b[1;33m:\u001b[0m\u001b[1;33m\u001b[0m\u001b[1;33m\u001b[0m\u001b[0m\n\u001b[0;32m    225\u001b[0m         \u001b[1;31m# Cannot rely on checking for EEXIST, since the operating system\u001b[0m\u001b[1;33m\u001b[0m\u001b[1;33m\u001b[0m\u001b[1;33m\u001b[0m\u001b[0m\n",
      "\u001b[1;31mFileExistsError\u001b[0m: [WinError 183] Cannot create a file when that file already exists: 'data\\\\positive'"
     ]
    }
   ],
   "source": [
    "#Create Directories\n",
    "os.makedirs(POS_PATH)\n",
    "os.makedirs(NEG_PATH)\n",
    "os.makedirs(ANC_PATH)"
   ]
  },
  {
   "cell_type": "code",
   "execution_count": 6,
   "id": "e817898c-786c-4296-ad8d-c63a6c3209eb",
   "metadata": {},
   "outputs": [
    {
     "data": {
      "text/plain": [
       "'C:\\\\Users\\\\madhu\\\\openvino_notebooks\\\\notebooks'"
      ]
     },
     "execution_count": 6,
     "metadata": {},
     "output_type": "execute_result"
    }
   ],
   "source": [
    "#Get current working directory\n",
    "os.getcwd()"
   ]
  },
  {
   "cell_type": "markdown",
   "id": "4c9cda70-0caf-4837-97ff-1ecc3b561152",
   "metadata": {},
   "source": [
    "<H1>Collect Positives and Anchors"
   ]
  },
  {
   "cell_type": "markdown",
   "id": "f03c0753-8a67-49b9-b5b1-9850db7b5477",
   "metadata": {},
   "source": [
    "<H3>2. Labelled objects dataset"
   ]
  },
  {
   "cell_type": "markdown",
   "id": "7bdbd321-e2b4-43e0-94d7-257743e03eac",
   "metadata": {},
   "source": [
    "<H3>2.1 Uncompress tar GZ file"
   ]
  },
  {
   "cell_type": "code",
   "execution_count": 7,
   "id": "d526bf95-cbe2-4555-b5fb-a62b6f15cf92",
   "metadata": {},
   "outputs": [],
   "source": [
    "#http://vis-www.cs.umass.edu/lfw/"
   ]
  },
  {
   "cell_type": "code",
   "execution_count": 8,
   "id": "5b42b351-eafd-4cb5-b57b-8eee3bc594e2",
   "metadata": {},
   "outputs": [],
   "source": [
    "# !tar -xf lfw.tgz\n",
    "#Uncomment to uncompress"
   ]
  },
  {
   "cell_type": "code",
   "execution_count": 9,
   "id": "1ed1da76-710c-4755-9514-72c5789747db",
   "metadata": {},
   "outputs": [
    {
     "ename": "FileNotFoundError",
     "evalue": "[WinError 3] The system cannot find the path specified: 'lfw'",
     "output_type": "error",
     "traceback": [
      "\u001b[1;31m---------------------------------------------------------------------------\u001b[0m",
      "\u001b[1;31mFileNotFoundError\u001b[0m                         Traceback (most recent call last)",
      "\u001b[1;32m<ipython-input-9-f4c8d39cdbef>\u001b[0m in \u001b[0;36m<module>\u001b[1;34m\u001b[0m\n\u001b[0;32m      1\u001b[0m \u001b[1;31m#Move LFW Images to the following repository data/negative\u001b[0m\u001b[1;33m\u001b[0m\u001b[1;33m\u001b[0m\u001b[1;33m\u001b[0m\u001b[0m\n\u001b[1;32m----> 2\u001b[1;33m \u001b[1;32mfor\u001b[0m \u001b[0mdirectory\u001b[0m \u001b[1;32min\u001b[0m \u001b[0mos\u001b[0m\u001b[1;33m.\u001b[0m\u001b[0mlistdir\u001b[0m\u001b[1;33m(\u001b[0m\u001b[1;34m'lfw'\u001b[0m\u001b[1;33m)\u001b[0m\u001b[1;33m:\u001b[0m\u001b[1;33m\u001b[0m\u001b[1;33m\u001b[0m\u001b[0m\n\u001b[0m\u001b[0;32m      3\u001b[0m     \u001b[1;32mfor\u001b[0m \u001b[0mfile\u001b[0m \u001b[1;32min\u001b[0m \u001b[0mos\u001b[0m\u001b[1;33m.\u001b[0m\u001b[0mlistdir\u001b[0m\u001b[1;33m(\u001b[0m\u001b[0mos\u001b[0m\u001b[1;33m.\u001b[0m\u001b[0mpath\u001b[0m\u001b[1;33m.\u001b[0m\u001b[0mjoin\u001b[0m\u001b[1;33m(\u001b[0m\u001b[1;34m'lfw'\u001b[0m\u001b[1;33m,\u001b[0m \u001b[0mdirectory\u001b[0m\u001b[1;33m)\u001b[0m\u001b[1;33m)\u001b[0m\u001b[1;33m:\u001b[0m\u001b[1;33m\u001b[0m\u001b[1;33m\u001b[0m\u001b[0m\n\u001b[0;32m      4\u001b[0m         \u001b[0mEX_PATH\u001b[0m \u001b[1;33m=\u001b[0m \u001b[0mos\u001b[0m\u001b[1;33m.\u001b[0m\u001b[0mpath\u001b[0m\u001b[1;33m.\u001b[0m\u001b[0mjoin\u001b[0m\u001b[1;33m(\u001b[0m\u001b[1;34m'lfw'\u001b[0m\u001b[1;33m,\u001b[0m \u001b[0mdirectory\u001b[0m\u001b[1;33m,\u001b[0m \u001b[0mfile\u001b[0m\u001b[1;33m)\u001b[0m\u001b[1;33m\u001b[0m\u001b[1;33m\u001b[0m\u001b[0m\n\u001b[0;32m      5\u001b[0m         \u001b[0mNEW_PATH\u001b[0m \u001b[1;33m=\u001b[0m \u001b[0mos\u001b[0m\u001b[1;33m.\u001b[0m\u001b[0mpath\u001b[0m\u001b[1;33m.\u001b[0m\u001b[0mjoin\u001b[0m\u001b[1;33m(\u001b[0m\u001b[0mNEG_PATH\u001b[0m\u001b[1;33m,\u001b[0m \u001b[0mfile\u001b[0m\u001b[1;33m)\u001b[0m\u001b[1;33m\u001b[0m\u001b[1;33m\u001b[0m\u001b[0m\n",
      "\u001b[1;31mFileNotFoundError\u001b[0m: [WinError 3] The system cannot find the path specified: 'lfw'"
     ]
    }
   ],
   "source": [
    "#Move LFW Images to the following repository data/negative\n",
    "for directory in os.listdir('lfw'):\n",
    "    for file in os.listdir(os.path.join('lfw', directory)):\n",
    "        EX_PATH = os.path.join('lfw', directory, file)\n",
    "        NEW_PATH = os.path.join(NEG_PATH, file)\n",
    "        os.replace(EX_PATH, NEW_PATH)"
   ]
  },
  {
   "cell_type": "markdown",
   "id": "bd5e1b86-7223-45a5-9625-f0bc34afcb64",
   "metadata": {},
   "source": [
    "<h3>2.2 Collect Positive and Anchor Classes"
   ]
  },
  {
   "cell_type": "code",
   "execution_count": 5,
   "id": "800c5f98",
   "metadata": {},
   "outputs": [],
   "source": [
    "import uuid"
   ]
  },
  {
   "cell_type": "code",
   "execution_count": 41,
   "id": "86867da8-9120-4a16-a4b5-f8812c0c5fcb",
   "metadata": {},
   "outputs": [],
   "source": [
    "#Establish a connection and Access webcam\n",
    "cap = cv2.VideoCapture(0)\n",
    "while cap.isOpened():\n",
    "    ret, frame = cap.read()\n",
    "    \n",
    "    #Cut Frame to get images in 250x250 frame\n",
    "    frame[200:200+250, 270:270+250, :]\n",
    "    \n",
    "    #Collect Anchors\n",
    "    if cv2.waitKey(1) & 0XFF == ord('a'):\n",
    "        #Create a unique file path\n",
    "        imgname = os.path.join(ANC_PATH, '{}.jpg'.format(uuid.uuid1()))\n",
    "        #Write out anchor image\n",
    "        cv2.imwrite(imgname, frame)\n",
    "    \n",
    "    #Collect Positives\n",
    "    if cv2.waitKey(1) & 0XFF == ord('p'):\n",
    "        #Create a unique file path\n",
    "        imgname = os.path.join(POS_PATH, '{}.jpg'.format(uuid.uuid1()))\n",
    "        #Write out positive image\n",
    "        cv2.imwrite(imgname, frame)\n",
    "    \n",
    "    #Show Image on Screen\n",
    "    cv2.imshow('Image Collection', frame)\n",
    "    \n",
    "    #Break Control\n",
    "    if cv2.waitKey(1) & 0XFF == ord('q'):\n",
    "        break\n",
    "        \n",
    "#Release Webcam\n",
    "cap.release()\n",
    "#Close Image Show Frame\n",
    "cv2.destroyAllWindows()"
   ]
  },
  {
   "cell_type": "code",
   "execution_count": 38,
   "id": "2895c995-8922-40c2-9115-53279edea0e2",
   "metadata": {},
   "outputs": [
    {
     "data": {
      "text/plain": [
       "<matplotlib.image.AxesImage at 0x1b5b537db20>"
      ]
     },
     "execution_count": 38,
     "metadata": {},
     "output_type": "execute_result"
    },
    {
     "data": {
      "image/png": "[encoded data removed]",
      "text/plain": [
       "<Figure size 432x288 with 1 Axes>"
      ]
     },
     "metadata": {
      "needs_background": "light"
     },
     "output_type": "display_data"
    }
   ],
   "source": [
    "#Resize image\n",
    "plt.imshow()"
   ]
  },
  {
   "cell_type": "markdown",
   "id": "9f8229b2-20bc-4af9-87f8-f255534d2876",
   "metadata": {},
   "source": [
    "<h1>3. Load and Preprocess Images"
   ]
  },
  {
   "cell_type": "markdown",
   "id": "2f078972-ae97-4cba-b590-bbf4979233dc",
   "metadata": {},
   "source": [
    "<h3>3.1 Get Image Directions"
   ]
  },
  {
   "cell_type": "code",
   "execution_count": 6,
   "id": "04179d61-66f9-4191-9598-e50a0da18d7d",
   "metadata": {},
   "outputs": [],
   "source": [
    "anchor = tf.data.Dataset.list_files(ANC_PATH+'\\*.jpg').take(300)\n",
    "positive = tf.data.Dataset.list_files(POS_PATH+'\\*.jpg').take(300)\n",
    "negative = tf.data.Dataset.list_files(NEG_PATH+'\\*.jpg').take(300)"
   ]
  },
  {
   "cell_type": "code",
   "execution_count": 7,
   "id": "2f14cb7d-4bf4-4a1a-b7ce-cc4aaef68178",
   "metadata": {},
   "outputs": [],
   "source": [
    "dir_test = anchor.as_numpy_iterator()"
   ]
  },
  {
   "cell_type": "code",
   "execution_count": 8,
   "id": "885254b2-e5f3-44c9-bcbc-8eb225474096",
   "metadata": {},
   "outputs": [
    {
     "data": {
      "text/plain": [
       "b'data\\\\anchor\\\\f02fd0d0-7624-11ed-9104-803049b7681e.jpg'"
      ]
     },
     "execution_count": 8,
     "metadata": {},
     "output_type": "execute_result"
    }
   ],
   "source": [
    "dir_test.next()"
   ]
  },
  {
   "cell_type": "markdown",
   "id": "05d6e8bf-e70a-48e2-a2eb-3ad6fb824af3",
   "metadata": {},
   "source": [
    "<h3>3.2 Preprocessing - Scale and Resize"
   ]
  },
  {
   "cell_type": "code",
   "execution_count": 9,
   "id": "52abe3b0-47a5-4aca-aa69-f79044002e6e",
   "metadata": {},
   "outputs": [],
   "source": [
    "def preprocess(file_path):\n",
    "    \n",
    "    #Read in Image from file path\n",
    "    byte_img = tf.io.read_file(file_path)\n",
    "    \n",
    "    #Load in the image\n",
    "    img = tf.io.decode_jpeg(byte_img)\n",
    "    \n",
    "    #Preprocessing steps - resiziing image to be (100*100*3)\n",
    "    img = tf.image.resize(img, (100,100))\n",
    "    \n",
    "    #Scale image to be between 0 and 1\n",
    "    img = img / 255.0\n",
    "    \n",
    "    #Return image\n",
    "    return img"
   ]
  },
  {
   "cell_type": "markdown",
   "id": "1b9a2c59-50c2-4197-886a-44274e841fdf",
   "metadata": {},
   "source": [
    "<h3>3.3 Create Labelled Dataset"
   ]
  },
  {
   "cell_type": "code",
   "execution_count": 10,
   "id": "aa0de5ca-d757-4e58-9925-fc13b1abe2d4",
   "metadata": {},
   "outputs": [],
   "source": [
    "positives = tf.data.Dataset.zip((anchor, positive, tf.data.Dataset.from_tensor_slices(tf.ones(len(anchor)))))\n",
    "negatives = tf.data.Dataset.zip((anchor, negative, tf.data.Dataset.from_tensor_slices(tf.zeros(len(anchor)))))\n",
    "data = positives.concatenate(negatives)"
   ]
  },
  {
   "cell_type": "markdown",
   "id": "731cacb3-cade-46b4-b8f8-ed1d35f2e789",
   "metadata": {},
   "source": [
    "<h3>3.4 Build Train and Test Partition"
   ]
  },
  {
   "cell_type": "code",
   "execution_count": 14,
   "id": "52762b93-e3df-4253-acdb-3a8811019689",
   "metadata": {},
   "outputs": [
    {
     "ename": "TypeError",
     "evalue": "in user code:\n\n    File \"<ipython-input-12-47a48a190c43>\", line 2, in preprocess_twin  *\n        return (preprocess(input_img), preprocess(validation_img), label)\n    File \"<ipython-input-9-d5398deac772>\", line 4, in preprocess  *\n        byte_img = tf.io.read_file(file_path)\n\n    TypeError: Input 'filename' of 'ReadFile' Op has type float32 that does not match expected type of string.\n",
     "output_type": "error",
     "traceback": [
      "\u001b[1;31m---------------------------------------------------------------------------\u001b[0m",
      "\u001b[1;31mTypeError\u001b[0m                                 Traceback (most recent call last)",
      "\u001b[1;32m<ipython-input-14-47a48a190c43>\u001b[0m in \u001b[0;36m<module>\u001b[1;34m\u001b[0m\n\u001b[0;32m      4\u001b[0m \u001b[1;33m\u001b[0m\u001b[0m\n\u001b[0;32m      5\u001b[0m \u001b[1;31m#Build dataloader pipeline\u001b[0m\u001b[1;33m\u001b[0m\u001b[1;33m\u001b[0m\u001b[1;33m\u001b[0m\u001b[0m\n\u001b[1;32m----> 6\u001b[1;33m \u001b[0mdata\u001b[0m \u001b[1;33m=\u001b[0m \u001b[0mdata\u001b[0m\u001b[1;33m.\u001b[0m\u001b[0mmap\u001b[0m\u001b[1;33m(\u001b[0m\u001b[0mpreprocess_twin\u001b[0m\u001b[1;33m)\u001b[0m\u001b[1;33m\u001b[0m\u001b[1;33m\u001b[0m\u001b[0m\n\u001b[0m\u001b[0;32m      7\u001b[0m \u001b[0mdata\u001b[0m \u001b[1;33m=\u001b[0m \u001b[0mdata\u001b[0m\u001b[1;33m.\u001b[0m\u001b[0mcache\u001b[0m\u001b[1;33m(\u001b[0m\u001b[1;33m)\u001b[0m\u001b[1;33m\u001b[0m\u001b[1;33m\u001b[0m\u001b[0m\n\u001b[0;32m      8\u001b[0m \u001b[0mdata\u001b[0m \u001b[1;33m=\u001b[0m \u001b[0mdata\u001b[0m\u001b[1;33m.\u001b[0m\u001b[0mshuffle\u001b[0m\u001b[1;33m(\u001b[0m\u001b[0mbuffer_size\u001b[0m \u001b[1;33m=\u001b[0m \u001b[1;36m1024\u001b[0m\u001b[1;33m)\u001b[0m\u001b[1;33m\u001b[0m\u001b[1;33m\u001b[0m\u001b[0m\n",
      "\u001b[1;32m~\\anaconda3\\envs\\openvino_env\\lib\\site-packages\\tensorflow\\python\\data\\ops\\dataset_ops.py\u001b[0m in \u001b[0;36mmap\u001b[1;34m(self, map_func, num_parallel_calls, deterministic, name)\u001b[0m\n\u001b[0;32m   2046\u001b[0m         warnings.warn(\"The `deterministic` argument has no effect unless the \"\n\u001b[0;32m   2047\u001b[0m                       \"`num_parallel_calls` argument is specified.\")\n\u001b[1;32m-> 2048\u001b[1;33m       \u001b[1;32mreturn\u001b[0m \u001b[0mMapDataset\u001b[0m\u001b[1;33m(\u001b[0m\u001b[0mself\u001b[0m\u001b[1;33m,\u001b[0m \u001b[0mmap_func\u001b[0m\u001b[1;33m,\u001b[0m \u001b[0mpreserve_cardinality\u001b[0m\u001b[1;33m=\u001b[0m\u001b[1;32mTrue\u001b[0m\u001b[1;33m,\u001b[0m \u001b[0mname\u001b[0m\u001b[1;33m=\u001b[0m\u001b[0mname\u001b[0m\u001b[1;33m)\u001b[0m\u001b[1;33m\u001b[0m\u001b[1;33m\u001b[0m\u001b[0m\n\u001b[0m\u001b[0;32m   2049\u001b[0m     \u001b[1;32melse\u001b[0m\u001b[1;33m:\u001b[0m\u001b[1;33m\u001b[0m\u001b[1;33m\u001b[0m\u001b[0m\n\u001b[0;32m   2050\u001b[0m       return ParallelMapDataset(\n",
      "\u001b[1;32m~\\anaconda3\\envs\\openvino_env\\lib\\site-packages\\tensorflow\\python\\data\\ops\\dataset_ops.py\u001b[0m in \u001b[0;36m__init__\u001b[1;34m(self, input_dataset, map_func, use_inter_op_parallelism, preserve_cardinality, use_legacy_function, name)\u001b[0m\n\u001b[0;32m   5241\u001b[0m     \u001b[0mself\u001b[0m\u001b[1;33m.\u001b[0m\u001b[0m_use_inter_op_parallelism\u001b[0m \u001b[1;33m=\u001b[0m \u001b[0muse_inter_op_parallelism\u001b[0m\u001b[1;33m\u001b[0m\u001b[1;33m\u001b[0m\u001b[0m\n\u001b[0;32m   5242\u001b[0m     \u001b[0mself\u001b[0m\u001b[1;33m.\u001b[0m\u001b[0m_preserve_cardinality\u001b[0m \u001b[1;33m=\u001b[0m \u001b[0mpreserve_cardinality\u001b[0m\u001b[1;33m\u001b[0m\u001b[1;33m\u001b[0m\u001b[0m\n\u001b[1;32m-> 5243\u001b[1;33m     self._map_func = structured_function.StructuredFunctionWrapper(\n\u001b[0m\u001b[0;32m   5244\u001b[0m         \u001b[0mmap_func\u001b[0m\u001b[1;33m,\u001b[0m\u001b[1;33m\u001b[0m\u001b[1;33m\u001b[0m\u001b[0m\n\u001b[0;32m   5245\u001b[0m         \u001b[0mself\u001b[0m\u001b[1;33m.\u001b[0m\u001b[0m_transformation_name\u001b[0m\u001b[1;33m(\u001b[0m\u001b[1;33m)\u001b[0m\u001b[1;33m,\u001b[0m\u001b[1;33m\u001b[0m\u001b[1;33m\u001b[0m\u001b[0m\n",
      "\u001b[1;32m~\\anaconda3\\envs\\openvino_env\\lib\\site-packages\\tensorflow\\python\\data\\ops\\structured_function.py\u001b[0m in \u001b[0;36m__init__\u001b[1;34m(self, func, transformation_name, dataset, input_classes, input_shapes, input_types, input_structure, add_to_graph, use_legacy_function, defun_kwargs)\u001b[0m\n\u001b[0;32m    269\u001b[0m         \u001b[0mfn_factory\u001b[0m \u001b[1;33m=\u001b[0m \u001b[0mtrace_tf_function\u001b[0m\u001b[1;33m(\u001b[0m\u001b[0mdefun_kwargs\u001b[0m\u001b[1;33m)\u001b[0m\u001b[1;33m\u001b[0m\u001b[1;33m\u001b[0m\u001b[0m\n\u001b[0;32m    270\u001b[0m \u001b[1;33m\u001b[0m\u001b[0m\n\u001b[1;32m--> 271\u001b[1;33m     \u001b[0mself\u001b[0m\u001b[1;33m.\u001b[0m\u001b[0m_function\u001b[0m \u001b[1;33m=\u001b[0m \u001b[0mfn_factory\u001b[0m\u001b[1;33m(\u001b[0m\u001b[1;33m)\u001b[0m\u001b[1;33m\u001b[0m\u001b[1;33m\u001b[0m\u001b[0m\n\u001b[0m\u001b[0;32m    272\u001b[0m     \u001b[1;31m# There is no graph to add in eager mode.\u001b[0m\u001b[1;33m\u001b[0m\u001b[1;33m\u001b[0m\u001b[1;33m\u001b[0m\u001b[0m\n\u001b[0;32m    273\u001b[0m     \u001b[0madd_to_graph\u001b[0m \u001b[1;33m&=\u001b[0m \u001b[1;32mnot\u001b[0m \u001b[0mcontext\u001b[0m\u001b[1;33m.\u001b[0m\u001b[0mexecuting_eagerly\u001b[0m\u001b[1;33m(\u001b[0m\u001b[1;33m)\u001b[0m\u001b[1;33m\u001b[0m\u001b[1;33m\u001b[0m\u001b[0m\n",
      "\u001b[1;32m~\\anaconda3\\envs\\openvino_env\\lib\\site-packages\\tensorflow\\python\\eager\\function.py\u001b[0m in \u001b[0;36mget_concrete_function\u001b[1;34m(self, *args, **kwargs)\u001b[0m\n\u001b[0;32m   2565\u001b[0m          \u001b[1;32mor\u001b[0m\u001b[0;31m \u001b[0m\u001b[0;31m`\u001b[0m\u001b[0mtf\u001b[0m\u001b[1;33m.\u001b[0m\u001b[0mTensor\u001b[0m\u001b[0;31m`\u001b[0m \u001b[1;32mor\u001b[0m\u001b[0;31m \u001b[0m\u001b[0;31m`\u001b[0m\u001b[0mtf\u001b[0m\u001b[1;33m.\u001b[0m\u001b[0mTensorSpec\u001b[0m\u001b[0;31m`\u001b[0m\u001b[1;33m.\u001b[0m\u001b[1;33m\u001b[0m\u001b[1;33m\u001b[0m\u001b[0m\n\u001b[0;32m   2566\u001b[0m     \"\"\"\n\u001b[1;32m-> 2567\u001b[1;33m     graph_function = self._get_concrete_function_garbage_collected(\n\u001b[0m\u001b[0;32m   2568\u001b[0m         *args, **kwargs)\n\u001b[0;32m   2569\u001b[0m     \u001b[0mgraph_function\u001b[0m\u001b[1;33m.\u001b[0m\u001b[0m_garbage_collector\u001b[0m\u001b[1;33m.\u001b[0m\u001b[0mrelease\u001b[0m\u001b[1;33m(\u001b[0m\u001b[1;33m)\u001b[0m  \u001b[1;31m# pylint: disable=protected-access\u001b[0m\u001b[1;33m\u001b[0m\u001b[1;33m\u001b[0m\u001b[0m\n",
      "\u001b[1;32m~\\anaconda3\\envs\\openvino_env\\lib\\site-packages\\tensorflow\\python\\eager\\function.py\u001b[0m in \u001b[0;36m_get_concrete_function_garbage_collected\u001b[1;34m(self, *args, **kwargs)\u001b[0m\n\u001b[0;32m   2531\u001b[0m       \u001b[0margs\u001b[0m\u001b[1;33m,\u001b[0m \u001b[0mkwargs\u001b[0m \u001b[1;33m=\u001b[0m \u001b[1;32mNone\u001b[0m\u001b[1;33m,\u001b[0m \u001b[1;32mNone\u001b[0m\u001b[1;33m\u001b[0m\u001b[1;33m\u001b[0m\u001b[0m\n\u001b[0;32m   2532\u001b[0m     \u001b[1;32mwith\u001b[0m \u001b[0mself\u001b[0m\u001b[1;33m.\u001b[0m\u001b[0m_lock\u001b[0m\u001b[1;33m:\u001b[0m\u001b[1;33m\u001b[0m\u001b[1;33m\u001b[0m\u001b[0m\n\u001b[1;32m-> 2533\u001b[1;33m       \u001b[0mgraph_function\u001b[0m\u001b[1;33m,\u001b[0m \u001b[0m_\u001b[0m \u001b[1;33m=\u001b[0m \u001b[0mself\u001b[0m\u001b[1;33m.\u001b[0m\u001b[0m_maybe_define_function\u001b[0m\u001b[1;33m(\u001b[0m\u001b[0margs\u001b[0m\u001b[1;33m,\u001b[0m \u001b[0mkwargs\u001b[0m\u001b[1;33m)\u001b[0m\u001b[1;33m\u001b[0m\u001b[1;33m\u001b[0m\u001b[0m\n\u001b[0m\u001b[0;32m   2534\u001b[0m       \u001b[0mseen_names\u001b[0m \u001b[1;33m=\u001b[0m \u001b[0mset\u001b[0m\u001b[1;33m(\u001b[0m\u001b[1;33m)\u001b[0m\u001b[1;33m\u001b[0m\u001b[1;33m\u001b[0m\u001b[0m\n\u001b[0;32m   2535\u001b[0m       captured = object_identity.ObjectIdentitySet(\n",
      "\u001b[1;32m~\\anaconda3\\envs\\openvino_env\\lib\\site-packages\\tensorflow\\python\\eager\\function.py\u001b[0m in \u001b[0;36m_maybe_define_function\u001b[1;34m(self, args, kwargs)\u001b[0m\n\u001b[0;32m   2709\u001b[0m             \u001b[1;33m(\u001b[0m\u001b[0margs\u001b[0m\u001b[1;33m,\u001b[0m \u001b[0mkwargs\u001b[0m\u001b[1;33m)\u001b[0m \u001b[1;33m=\u001b[0m \u001b[0mcache_key\u001b[0m\u001b[1;33m.\u001b[0m\u001b[0m_placeholder_value\u001b[0m\u001b[1;33m(\u001b[0m\u001b[1;33m)\u001b[0m  \u001b[1;31m# pylint: disable=protected-access\u001b[0m\u001b[1;33m\u001b[0m\u001b[1;33m\u001b[0m\u001b[0m\n\u001b[0;32m   2710\u001b[0m \u001b[1;33m\u001b[0m\u001b[0m\n\u001b[1;32m-> 2711\u001b[1;33m           \u001b[0mgraph_function\u001b[0m \u001b[1;33m=\u001b[0m \u001b[0mself\u001b[0m\u001b[1;33m.\u001b[0m\u001b[0m_create_graph_function\u001b[0m\u001b[1;33m(\u001b[0m\u001b[0margs\u001b[0m\u001b[1;33m,\u001b[0m \u001b[0mkwargs\u001b[0m\u001b[1;33m)\u001b[0m\u001b[1;33m\u001b[0m\u001b[1;33m\u001b[0m\u001b[0m\n\u001b[0m\u001b[0;32m   2712\u001b[0m           self._function_cache.add(cache_key, cache_key_deletion_observer,\n\u001b[0;32m   2713\u001b[0m                                    graph_function)\n",
      "\u001b[1;32m~\\anaconda3\\envs\\openvino_env\\lib\\site-packages\\tensorflow\\python\\eager\\function.py\u001b[0m in \u001b[0;36m_create_graph_function\u001b[1;34m(self, args, kwargs)\u001b[0m\n\u001b[0;32m   2625\u001b[0m     \u001b[0marg_names\u001b[0m \u001b[1;33m=\u001b[0m \u001b[0mbase_arg_names\u001b[0m \u001b[1;33m+\u001b[0m \u001b[0mmissing_arg_names\u001b[0m\u001b[1;33m\u001b[0m\u001b[1;33m\u001b[0m\u001b[0m\n\u001b[0;32m   2626\u001b[0m     graph_function = ConcreteFunction(\n\u001b[1;32m-> 2627\u001b[1;33m         func_graph_module.func_graph_from_py_func(\n\u001b[0m\u001b[0;32m   2628\u001b[0m             \u001b[0mself\u001b[0m\u001b[1;33m.\u001b[0m\u001b[0m_name\u001b[0m\u001b[1;33m,\u001b[0m\u001b[1;33m\u001b[0m\u001b[1;33m\u001b[0m\u001b[0m\n\u001b[0;32m   2629\u001b[0m             \u001b[0mself\u001b[0m\u001b[1;33m.\u001b[0m\u001b[0m_python_function\u001b[0m\u001b[1;33m,\u001b[0m\u001b[1;33m\u001b[0m\u001b[1;33m\u001b[0m\u001b[0m\n",
      "\u001b[1;32m~\\anaconda3\\envs\\openvino_env\\lib\\site-packages\\tensorflow\\python\\framework\\func_graph.py\u001b[0m in \u001b[0;36mfunc_graph_from_py_func\u001b[1;34m(name, python_func, args, kwargs, signature, func_graph, autograph, autograph_options, add_control_dependencies, arg_names, op_return_value, collections, capture_by_value, acd_record_initial_resource_uses)\u001b[0m\n\u001b[0;32m   1139\u001b[0m         \u001b[0m_\u001b[0m\u001b[1;33m,\u001b[0m \u001b[0moriginal_func\u001b[0m \u001b[1;33m=\u001b[0m \u001b[0mtf_decorator\u001b[0m\u001b[1;33m.\u001b[0m\u001b[0munwrap\u001b[0m\u001b[1;33m(\u001b[0m\u001b[0mpython_func\u001b[0m\u001b[1;33m)\u001b[0m\u001b[1;33m\u001b[0m\u001b[1;33m\u001b[0m\u001b[0m\n\u001b[0;32m   1140\u001b[0m \u001b[1;33m\u001b[0m\u001b[0m\n\u001b[1;32m-> 1141\u001b[1;33m       \u001b[0mfunc_outputs\u001b[0m \u001b[1;33m=\u001b[0m \u001b[0mpython_func\u001b[0m\u001b[1;33m(\u001b[0m\u001b[1;33m*\u001b[0m\u001b[0mfunc_args\u001b[0m\u001b[1;33m,\u001b[0m \u001b[1;33m**\u001b[0m\u001b[0mfunc_kwargs\u001b[0m\u001b[1;33m)\u001b[0m\u001b[1;33m\u001b[0m\u001b[1;33m\u001b[0m\u001b[0m\n\u001b[0m\u001b[0;32m   1142\u001b[0m \u001b[1;33m\u001b[0m\u001b[0m\n\u001b[0;32m   1143\u001b[0m       \u001b[1;31m# invariant: `func_outputs` contains only Tensors, CompositeTensors,\u001b[0m\u001b[1;33m\u001b[0m\u001b[1;33m\u001b[0m\u001b[1;33m\u001b[0m\u001b[0m\n",
      "\u001b[1;32m~\\anaconda3\\envs\\openvino_env\\lib\\site-packages\\tensorflow\\python\\data\\ops\\structured_function.py\u001b[0m in \u001b[0;36mwrapped_fn\u001b[1;34m(*args)\u001b[0m\n\u001b[0;32m    246\u001b[0m           attributes=defun_kwargs)\n\u001b[0;32m    247\u001b[0m       \u001b[1;32mdef\u001b[0m \u001b[0mwrapped_fn\u001b[0m\u001b[1;33m(\u001b[0m\u001b[1;33m*\u001b[0m\u001b[0margs\u001b[0m\u001b[1;33m)\u001b[0m\u001b[1;33m:\u001b[0m  \u001b[1;31m# pylint: disable=missing-docstring\u001b[0m\u001b[1;33m\u001b[0m\u001b[1;33m\u001b[0m\u001b[0m\n\u001b[1;32m--> 248\u001b[1;33m         \u001b[0mret\u001b[0m \u001b[1;33m=\u001b[0m \u001b[0mwrapper_helper\u001b[0m\u001b[1;33m(\u001b[0m\u001b[1;33m*\u001b[0m\u001b[0margs\u001b[0m\u001b[1;33m)\u001b[0m\u001b[1;33m\u001b[0m\u001b[1;33m\u001b[0m\u001b[0m\n\u001b[0m\u001b[0;32m    249\u001b[0m         \u001b[0mret\u001b[0m \u001b[1;33m=\u001b[0m \u001b[0mstructure\u001b[0m\u001b[1;33m.\u001b[0m\u001b[0mto_tensor_list\u001b[0m\u001b[1;33m(\u001b[0m\u001b[0mself\u001b[0m\u001b[1;33m.\u001b[0m\u001b[0m_output_structure\u001b[0m\u001b[1;33m,\u001b[0m \u001b[0mret\u001b[0m\u001b[1;33m)\u001b[0m\u001b[1;33m\u001b[0m\u001b[1;33m\u001b[0m\u001b[0m\n\u001b[0;32m    250\u001b[0m         \u001b[1;32mreturn\u001b[0m \u001b[1;33m[\u001b[0m\u001b[0mops\u001b[0m\u001b[1;33m.\u001b[0m\u001b[0mconvert_to_tensor\u001b[0m\u001b[1;33m(\u001b[0m\u001b[0mt\u001b[0m\u001b[1;33m)\u001b[0m \u001b[1;32mfor\u001b[0m \u001b[0mt\u001b[0m \u001b[1;32min\u001b[0m \u001b[0mret\u001b[0m\u001b[1;33m]\u001b[0m\u001b[1;33m\u001b[0m\u001b[1;33m\u001b[0m\u001b[0m\n",
      "\u001b[1;32m~\\anaconda3\\envs\\openvino_env\\lib\\site-packages\\tensorflow\\python\\data\\ops\\structured_function.py\u001b[0m in \u001b[0;36mwrapper_helper\u001b[1;34m(*args)\u001b[0m\n\u001b[0;32m    175\u001b[0m       \u001b[1;32mif\u001b[0m \u001b[1;32mnot\u001b[0m \u001b[0m_should_unpack\u001b[0m\u001b[1;33m(\u001b[0m\u001b[0mnested_args\u001b[0m\u001b[1;33m)\u001b[0m\u001b[1;33m:\u001b[0m\u001b[1;33m\u001b[0m\u001b[1;33m\u001b[0m\u001b[0m\n\u001b[0;32m    176\u001b[0m         \u001b[0mnested_args\u001b[0m \u001b[1;33m=\u001b[0m \u001b[1;33m(\u001b[0m\u001b[0mnested_args\u001b[0m\u001b[1;33m,\u001b[0m\u001b[1;33m)\u001b[0m\u001b[1;33m\u001b[0m\u001b[1;33m\u001b[0m\u001b[0m\n\u001b[1;32m--> 177\u001b[1;33m       \u001b[0mret\u001b[0m \u001b[1;33m=\u001b[0m \u001b[0mautograph\u001b[0m\u001b[1;33m.\u001b[0m\u001b[0mtf_convert\u001b[0m\u001b[1;33m(\u001b[0m\u001b[0mself\u001b[0m\u001b[1;33m.\u001b[0m\u001b[0m_func\u001b[0m\u001b[1;33m,\u001b[0m \u001b[0mag_ctx\u001b[0m\u001b[1;33m)\u001b[0m\u001b[1;33m(\u001b[0m\u001b[1;33m*\u001b[0m\u001b[0mnested_args\u001b[0m\u001b[1;33m)\u001b[0m\u001b[1;33m\u001b[0m\u001b[1;33m\u001b[0m\u001b[0m\n\u001b[0m\u001b[0;32m    178\u001b[0m       \u001b[1;32mif\u001b[0m \u001b[0m_should_pack\u001b[0m\u001b[1;33m(\u001b[0m\u001b[0mret\u001b[0m\u001b[1;33m)\u001b[0m\u001b[1;33m:\u001b[0m\u001b[1;33m\u001b[0m\u001b[1;33m\u001b[0m\u001b[0m\n\u001b[0;32m    179\u001b[0m         \u001b[0mret\u001b[0m \u001b[1;33m=\u001b[0m \u001b[0mtuple\u001b[0m\u001b[1;33m(\u001b[0m\u001b[0mret\u001b[0m\u001b[1;33m)\u001b[0m\u001b[1;33m\u001b[0m\u001b[1;33m\u001b[0m\u001b[0m\n",
      "\u001b[1;32m~\\anaconda3\\envs\\openvino_env\\lib\\site-packages\\tensorflow\\python\\autograph\\impl\\api.py\u001b[0m in \u001b[0;36mwrapper\u001b[1;34m(*args, **kwargs)\u001b[0m\n\u001b[0;32m    690\u001b[0m       \u001b[1;32mexcept\u001b[0m \u001b[0mException\u001b[0m \u001b[1;32mas\u001b[0m \u001b[0me\u001b[0m\u001b[1;33m:\u001b[0m  \u001b[1;31m# pylint:disable=broad-except\u001b[0m\u001b[1;33m\u001b[0m\u001b[1;33m\u001b[0m\u001b[0m\n\u001b[0;32m    691\u001b[0m         \u001b[1;32mif\u001b[0m \u001b[0mhasattr\u001b[0m\u001b[1;33m(\u001b[0m\u001b[0me\u001b[0m\u001b[1;33m,\u001b[0m \u001b[1;34m'ag_error_metadata'\u001b[0m\u001b[1;33m)\u001b[0m\u001b[1;33m:\u001b[0m\u001b[1;33m\u001b[0m\u001b[1;33m\u001b[0m\u001b[0m\n\u001b[1;32m--> 692\u001b[1;33m           \u001b[1;32mraise\u001b[0m \u001b[0me\u001b[0m\u001b[1;33m.\u001b[0m\u001b[0mag_error_metadata\u001b[0m\u001b[1;33m.\u001b[0m\u001b[0mto_exception\u001b[0m\u001b[1;33m(\u001b[0m\u001b[0me\u001b[0m\u001b[1;33m)\u001b[0m\u001b[1;33m\u001b[0m\u001b[1;33m\u001b[0m\u001b[0m\n\u001b[0m\u001b[0;32m    693\u001b[0m         \u001b[1;32melse\u001b[0m\u001b[1;33m:\u001b[0m\u001b[1;33m\u001b[0m\u001b[1;33m\u001b[0m\u001b[0m\n\u001b[0;32m    694\u001b[0m           \u001b[1;32mraise\u001b[0m\u001b[1;33m\u001b[0m\u001b[1;33m\u001b[0m\u001b[0m\n",
      "\u001b[1;32m~\\anaconda3\\envs\\openvino_env\\lib\\site-packages\\tensorflow\\python\\autograph\\impl\\api.py\u001b[0m in \u001b[0;36mwrapper\u001b[1;34m(*args, **kwargs)\u001b[0m\n\u001b[0;32m    687\u001b[0m       \u001b[1;32mtry\u001b[0m\u001b[1;33m:\u001b[0m\u001b[1;33m\u001b[0m\u001b[1;33m\u001b[0m\u001b[0m\n\u001b[0;32m    688\u001b[0m         \u001b[1;32mwith\u001b[0m \u001b[0mconversion_ctx\u001b[0m\u001b[1;33m:\u001b[0m\u001b[1;33m\u001b[0m\u001b[1;33m\u001b[0m\u001b[0m\n\u001b[1;32m--> 689\u001b[1;33m           \u001b[1;32mreturn\u001b[0m \u001b[0mconverted_call\u001b[0m\u001b[1;33m(\u001b[0m\u001b[0mf\u001b[0m\u001b[1;33m,\u001b[0m \u001b[0margs\u001b[0m\u001b[1;33m,\u001b[0m \u001b[0mkwargs\u001b[0m\u001b[1;33m,\u001b[0m \u001b[0moptions\u001b[0m\u001b[1;33m=\u001b[0m\u001b[0moptions\u001b[0m\u001b[1;33m)\u001b[0m\u001b[1;33m\u001b[0m\u001b[1;33m\u001b[0m\u001b[0m\n\u001b[0m\u001b[0;32m    690\u001b[0m       \u001b[1;32mexcept\u001b[0m \u001b[0mException\u001b[0m \u001b[1;32mas\u001b[0m \u001b[0me\u001b[0m\u001b[1;33m:\u001b[0m  \u001b[1;31m# pylint:disable=broad-except\u001b[0m\u001b[1;33m\u001b[0m\u001b[1;33m\u001b[0m\u001b[0m\n\u001b[0;32m    691\u001b[0m         \u001b[1;32mif\u001b[0m \u001b[0mhasattr\u001b[0m\u001b[1;33m(\u001b[0m\u001b[0me\u001b[0m\u001b[1;33m,\u001b[0m \u001b[1;34m'ag_error_metadata'\u001b[0m\u001b[1;33m)\u001b[0m\u001b[1;33m:\u001b[0m\u001b[1;33m\u001b[0m\u001b[1;33m\u001b[0m\u001b[0m\n",
      "\u001b[1;32m~\\anaconda3\\envs\\openvino_env\\lib\\site-packages\\tensorflow\\python\\autograph\\impl\\api.py\u001b[0m in \u001b[0;36mconverted_call\u001b[1;34m(f, args, kwargs, caller_fn_scope, options)\u001b[0m\n\u001b[0;32m    437\u001b[0m     \u001b[1;32mtry\u001b[0m\u001b[1;33m:\u001b[0m\u001b[1;33m\u001b[0m\u001b[1;33m\u001b[0m\u001b[0m\n\u001b[0;32m    438\u001b[0m       \u001b[1;32mif\u001b[0m \u001b[0mkwargs\u001b[0m \u001b[1;32mis\u001b[0m \u001b[1;32mnot\u001b[0m \u001b[1;32mNone\u001b[0m\u001b[1;33m:\u001b[0m\u001b[1;33m\u001b[0m\u001b[1;33m\u001b[0m\u001b[0m\n\u001b[1;32m--> 439\u001b[1;33m         \u001b[0mresult\u001b[0m \u001b[1;33m=\u001b[0m \u001b[0mconverted_f\u001b[0m\u001b[1;33m(\u001b[0m\u001b[1;33m*\u001b[0m\u001b[0meffective_args\u001b[0m\u001b[1;33m,\u001b[0m \u001b[1;33m**\u001b[0m\u001b[0mkwargs\u001b[0m\u001b[1;33m)\u001b[0m\u001b[1;33m\u001b[0m\u001b[1;33m\u001b[0m\u001b[0m\n\u001b[0m\u001b[0;32m    440\u001b[0m       \u001b[1;32melse\u001b[0m\u001b[1;33m:\u001b[0m\u001b[1;33m\u001b[0m\u001b[1;33m\u001b[0m\u001b[0m\n\u001b[0;32m    441\u001b[0m         \u001b[0mresult\u001b[0m \u001b[1;33m=\u001b[0m \u001b[0mconverted_f\u001b[0m\u001b[1;33m(\u001b[0m\u001b[1;33m*\u001b[0m\u001b[0meffective_args\u001b[0m\u001b[1;33m)\u001b[0m\u001b[1;33m\u001b[0m\u001b[1;33m\u001b[0m\u001b[0m\n",
      "\u001b[1;32m~\\AppData\\Local\\Temp\\__autograph_generated_filemdj5zumc.py\u001b[0m in \u001b[0;36mtf__preprocess_twin\u001b[1;34m(input_img, validation_img, label)\u001b[0m\n\u001b[0;32m     10\u001b[0m                 \u001b[1;32mtry\u001b[0m\u001b[1;33m:\u001b[0m\u001b[1;33m\u001b[0m\u001b[1;33m\u001b[0m\u001b[0m\n\u001b[0;32m     11\u001b[0m                     \u001b[0mdo_return\u001b[0m \u001b[1;33m=\u001b[0m \u001b[1;32mTrue\u001b[0m\u001b[1;33m\u001b[0m\u001b[1;33m\u001b[0m\u001b[0m\n\u001b[1;32m---> 12\u001b[1;33m                     \u001b[0mretval_\u001b[0m \u001b[1;33m=\u001b[0m \u001b[1;33m(\u001b[0m\u001b[0mag__\u001b[0m\u001b[1;33m.\u001b[0m\u001b[0mconverted_call\u001b[0m\u001b[1;33m(\u001b[0m\u001b[0mag__\u001b[0m\u001b[1;33m.\u001b[0m\u001b[0mld\u001b[0m\u001b[1;33m(\u001b[0m\u001b[0mpreprocess\u001b[0m\u001b[1;33m)\u001b[0m\u001b[1;33m,\u001b[0m \u001b[1;33m(\u001b[0m\u001b[0mag__\u001b[0m\u001b[1;33m.\u001b[0m\u001b[0mld\u001b[0m\u001b[1;33m(\u001b[0m\u001b[0minput_img\u001b[0m\u001b[1;33m)\u001b[0m\u001b[1;33m,\u001b[0m\u001b[1;33m)\u001b[0m\u001b[1;33m,\u001b[0m \u001b[1;32mNone\u001b[0m\u001b[1;33m,\u001b[0m \u001b[0mfscope\u001b[0m\u001b[1;33m)\u001b[0m\u001b[1;33m,\u001b[0m \u001b[0mag__\u001b[0m\u001b[1;33m.\u001b[0m\u001b[0mconverted_call\u001b[0m\u001b[1;33m(\u001b[0m\u001b[0mag__\u001b[0m\u001b[1;33m.\u001b[0m\u001b[0mld\u001b[0m\u001b[1;33m(\u001b[0m\u001b[0mpreprocess\u001b[0m\u001b[1;33m)\u001b[0m\u001b[1;33m,\u001b[0m \u001b[1;33m(\u001b[0m\u001b[0mag__\u001b[0m\u001b[1;33m.\u001b[0m\u001b[0mld\u001b[0m\u001b[1;33m(\u001b[0m\u001b[0mvalidation_img\u001b[0m\u001b[1;33m)\u001b[0m\u001b[1;33m,\u001b[0m\u001b[1;33m)\u001b[0m\u001b[1;33m,\u001b[0m \u001b[1;32mNone\u001b[0m\u001b[1;33m,\u001b[0m \u001b[0mfscope\u001b[0m\u001b[1;33m)\u001b[0m\u001b[1;33m,\u001b[0m \u001b[0mag__\u001b[0m\u001b[1;33m.\u001b[0m\u001b[0mld\u001b[0m\u001b[1;33m(\u001b[0m\u001b[0mlabel\u001b[0m\u001b[1;33m)\u001b[0m\u001b[1;33m)\u001b[0m\u001b[1;33m\u001b[0m\u001b[1;33m\u001b[0m\u001b[0m\n\u001b[0m\u001b[0;32m     13\u001b[0m                 \u001b[1;32mexcept\u001b[0m\u001b[1;33m:\u001b[0m\u001b[1;33m\u001b[0m\u001b[1;33m\u001b[0m\u001b[0m\n\u001b[0;32m     14\u001b[0m                     \u001b[0mdo_return\u001b[0m \u001b[1;33m=\u001b[0m \u001b[1;32mFalse\u001b[0m\u001b[1;33m\u001b[0m\u001b[1;33m\u001b[0m\u001b[0m\n",
      "\u001b[1;32m~\\anaconda3\\envs\\openvino_env\\lib\\site-packages\\tensorflow\\python\\autograph\\impl\\api.py\u001b[0m in \u001b[0;36mconverted_call\u001b[1;34m(f, args, kwargs, caller_fn_scope, options)\u001b[0m\n\u001b[0;32m    439\u001b[0m         \u001b[0mresult\u001b[0m \u001b[1;33m=\u001b[0m \u001b[0mconverted_f\u001b[0m\u001b[1;33m(\u001b[0m\u001b[1;33m*\u001b[0m\u001b[0meffective_args\u001b[0m\u001b[1;33m,\u001b[0m \u001b[1;33m**\u001b[0m\u001b[0mkwargs\u001b[0m\u001b[1;33m)\u001b[0m\u001b[1;33m\u001b[0m\u001b[1;33m\u001b[0m\u001b[0m\n\u001b[0;32m    440\u001b[0m       \u001b[1;32melse\u001b[0m\u001b[1;33m:\u001b[0m\u001b[1;33m\u001b[0m\u001b[1;33m\u001b[0m\u001b[0m\n\u001b[1;32m--> 441\u001b[1;33m         \u001b[0mresult\u001b[0m \u001b[1;33m=\u001b[0m \u001b[0mconverted_f\u001b[0m\u001b[1;33m(\u001b[0m\u001b[1;33m*\u001b[0m\u001b[0meffective_args\u001b[0m\u001b[1;33m)\u001b[0m\u001b[1;33m\u001b[0m\u001b[1;33m\u001b[0m\u001b[0m\n\u001b[0m\u001b[0;32m    442\u001b[0m     \u001b[1;32mexcept\u001b[0m \u001b[0mException\u001b[0m \u001b[1;32mas\u001b[0m \u001b[0me\u001b[0m\u001b[1;33m:\u001b[0m\u001b[1;33m\u001b[0m\u001b[1;33m\u001b[0m\u001b[0m\n\u001b[0;32m    443\u001b[0m       \u001b[0m_attach_error_metadata\u001b[0m\u001b[1;33m(\u001b[0m\u001b[0me\u001b[0m\u001b[1;33m,\u001b[0m \u001b[0mconverted_f\u001b[0m\u001b[1;33m)\u001b[0m\u001b[1;33m\u001b[0m\u001b[1;33m\u001b[0m\u001b[0m\n",
      "\u001b[1;32m~\\AppData\\Local\\Temp\\__autograph_generated_fileet1_gpcs.py\u001b[0m in \u001b[0;36mtf__preprocess\u001b[1;34m(file_path)\u001b[0m\n\u001b[0;32m      8\u001b[0m                 \u001b[0mdo_return\u001b[0m \u001b[1;33m=\u001b[0m \u001b[1;32mFalse\u001b[0m\u001b[1;33m\u001b[0m\u001b[1;33m\u001b[0m\u001b[0m\n\u001b[0;32m      9\u001b[0m                 \u001b[0mretval_\u001b[0m \u001b[1;33m=\u001b[0m \u001b[0mag__\u001b[0m\u001b[1;33m.\u001b[0m\u001b[0mUndefinedReturnValue\u001b[0m\u001b[1;33m(\u001b[0m\u001b[1;33m)\u001b[0m\u001b[1;33m\u001b[0m\u001b[1;33m\u001b[0m\u001b[0m\n\u001b[1;32m---> 10\u001b[1;33m                 \u001b[0mbyte_img\u001b[0m \u001b[1;33m=\u001b[0m \u001b[0mag__\u001b[0m\u001b[1;33m.\u001b[0m\u001b[0mconverted_call\u001b[0m\u001b[1;33m(\u001b[0m\u001b[0mag__\u001b[0m\u001b[1;33m.\u001b[0m\u001b[0mld\u001b[0m\u001b[1;33m(\u001b[0m\u001b[0mtf\u001b[0m\u001b[1;33m)\u001b[0m\u001b[1;33m.\u001b[0m\u001b[0mio\u001b[0m\u001b[1;33m.\u001b[0m\u001b[0mread_file\u001b[0m\u001b[1;33m,\u001b[0m \u001b[1;33m(\u001b[0m\u001b[0mag__\u001b[0m\u001b[1;33m.\u001b[0m\u001b[0mld\u001b[0m\u001b[1;33m(\u001b[0m\u001b[0mfile_path\u001b[0m\u001b[1;33m)\u001b[0m\u001b[1;33m,\u001b[0m\u001b[1;33m)\u001b[0m\u001b[1;33m,\u001b[0m \u001b[1;32mNone\u001b[0m\u001b[1;33m,\u001b[0m \u001b[0mfscope\u001b[0m\u001b[1;33m)\u001b[0m\u001b[1;33m\u001b[0m\u001b[1;33m\u001b[0m\u001b[0m\n\u001b[0m\u001b[0;32m     11\u001b[0m                 \u001b[0mimg\u001b[0m \u001b[1;33m=\u001b[0m \u001b[0mag__\u001b[0m\u001b[1;33m.\u001b[0m\u001b[0mconverted_call\u001b[0m\u001b[1;33m(\u001b[0m\u001b[0mag__\u001b[0m\u001b[1;33m.\u001b[0m\u001b[0mld\u001b[0m\u001b[1;33m(\u001b[0m\u001b[0mtf\u001b[0m\u001b[1;33m)\u001b[0m\u001b[1;33m.\u001b[0m\u001b[0mio\u001b[0m\u001b[1;33m.\u001b[0m\u001b[0mdecode_jpeg\u001b[0m\u001b[1;33m,\u001b[0m \u001b[1;33m(\u001b[0m\u001b[0mag__\u001b[0m\u001b[1;33m.\u001b[0m\u001b[0mld\u001b[0m\u001b[1;33m(\u001b[0m\u001b[0mbyte_img\u001b[0m\u001b[1;33m)\u001b[0m\u001b[1;33m,\u001b[0m\u001b[1;33m)\u001b[0m\u001b[1;33m,\u001b[0m \u001b[1;32mNone\u001b[0m\u001b[1;33m,\u001b[0m \u001b[0mfscope\u001b[0m\u001b[1;33m)\u001b[0m\u001b[1;33m\u001b[0m\u001b[1;33m\u001b[0m\u001b[0m\n\u001b[0;32m     12\u001b[0m                 \u001b[0mimg\u001b[0m \u001b[1;33m=\u001b[0m \u001b[0mag__\u001b[0m\u001b[1;33m.\u001b[0m\u001b[0mconverted_call\u001b[0m\u001b[1;33m(\u001b[0m\u001b[0mag__\u001b[0m\u001b[1;33m.\u001b[0m\u001b[0mld\u001b[0m\u001b[1;33m(\u001b[0m\u001b[0mtf\u001b[0m\u001b[1;33m)\u001b[0m\u001b[1;33m.\u001b[0m\u001b[0mimage\u001b[0m\u001b[1;33m.\u001b[0m\u001b[0mresize\u001b[0m\u001b[1;33m,\u001b[0m \u001b[1;33m(\u001b[0m\u001b[0mag__\u001b[0m\u001b[1;33m.\u001b[0m\u001b[0mld\u001b[0m\u001b[1;33m(\u001b[0m\u001b[0mimg\u001b[0m\u001b[1;33m)\u001b[0m\u001b[1;33m,\u001b[0m \u001b[1;33m(\u001b[0m\u001b[1;36m100\u001b[0m\u001b[1;33m,\u001b[0m \u001b[1;36m100\u001b[0m\u001b[1;33m)\u001b[0m\u001b[1;33m)\u001b[0m\u001b[1;33m,\u001b[0m \u001b[1;32mNone\u001b[0m\u001b[1;33m,\u001b[0m \u001b[0mfscope\u001b[0m\u001b[1;33m)\u001b[0m\u001b[1;33m\u001b[0m\u001b[1;33m\u001b[0m\u001b[0m\n",
      "\u001b[1;32m~\\anaconda3\\envs\\openvino_env\\lib\\site-packages\\tensorflow\\python\\autograph\\impl\\api.py\u001b[0m in \u001b[0;36mconverted_call\u001b[1;34m(f, args, kwargs, caller_fn_scope, options)\u001b[0m\n\u001b[0;32m    329\u001b[0m   \u001b[1;32mif\u001b[0m \u001b[0mconversion\u001b[0m\u001b[1;33m.\u001b[0m\u001b[0mis_in_allowlist_cache\u001b[0m\u001b[1;33m(\u001b[0m\u001b[0mf\u001b[0m\u001b[1;33m,\u001b[0m \u001b[0moptions\u001b[0m\u001b[1;33m)\u001b[0m\u001b[1;33m:\u001b[0m\u001b[1;33m\u001b[0m\u001b[1;33m\u001b[0m\u001b[0m\n\u001b[0;32m    330\u001b[0m     \u001b[0mlogging\u001b[0m\u001b[1;33m.\u001b[0m\u001b[0mlog\u001b[0m\u001b[1;33m(\u001b[0m\u001b[1;36m2\u001b[0m\u001b[1;33m,\u001b[0m \u001b[1;34m'Allowlisted %s: from cache'\u001b[0m\u001b[1;33m,\u001b[0m \u001b[0mf\u001b[0m\u001b[1;33m)\u001b[0m\u001b[1;33m\u001b[0m\u001b[1;33m\u001b[0m\u001b[0m\n\u001b[1;32m--> 331\u001b[1;33m     \u001b[1;32mreturn\u001b[0m \u001b[0m_call_unconverted\u001b[0m\u001b[1;33m(\u001b[0m\u001b[0mf\u001b[0m\u001b[1;33m,\u001b[0m \u001b[0margs\u001b[0m\u001b[1;33m,\u001b[0m \u001b[0mkwargs\u001b[0m\u001b[1;33m,\u001b[0m \u001b[0moptions\u001b[0m\u001b[1;33m,\u001b[0m \u001b[1;32mFalse\u001b[0m\u001b[1;33m)\u001b[0m\u001b[1;33m\u001b[0m\u001b[1;33m\u001b[0m\u001b[0m\n\u001b[0m\u001b[0;32m    332\u001b[0m \u001b[1;33m\u001b[0m\u001b[0m\n\u001b[0;32m    333\u001b[0m   \u001b[1;32mif\u001b[0m \u001b[0mag_ctx\u001b[0m\u001b[1;33m.\u001b[0m\u001b[0mcontrol_status_ctx\u001b[0m\u001b[1;33m(\u001b[0m\u001b[1;33m)\u001b[0m\u001b[1;33m.\u001b[0m\u001b[0mstatus\u001b[0m \u001b[1;33m==\u001b[0m \u001b[0mag_ctx\u001b[0m\u001b[1;33m.\u001b[0m\u001b[0mStatus\u001b[0m\u001b[1;33m.\u001b[0m\u001b[0mDISABLED\u001b[0m\u001b[1;33m:\u001b[0m\u001b[1;33m\u001b[0m\u001b[1;33m\u001b[0m\u001b[0m\n",
      "\u001b[1;32m~\\anaconda3\\envs\\openvino_env\\lib\\site-packages\\tensorflow\\python\\autograph\\impl\\api.py\u001b[0m in \u001b[0;36m_call_unconverted\u001b[1;34m(f, args, kwargs, options, update_cache)\u001b[0m\n\u001b[0;32m    457\u001b[0m   \u001b[1;32mif\u001b[0m \u001b[0mkwargs\u001b[0m \u001b[1;32mis\u001b[0m \u001b[1;32mnot\u001b[0m \u001b[1;32mNone\u001b[0m\u001b[1;33m:\u001b[0m\u001b[1;33m\u001b[0m\u001b[1;33m\u001b[0m\u001b[0m\n\u001b[0;32m    458\u001b[0m     \u001b[1;32mreturn\u001b[0m \u001b[0mf\u001b[0m\u001b[1;33m(\u001b[0m\u001b[1;33m*\u001b[0m\u001b[0margs\u001b[0m\u001b[1;33m,\u001b[0m \u001b[1;33m**\u001b[0m\u001b[0mkwargs\u001b[0m\u001b[1;33m)\u001b[0m\u001b[1;33m\u001b[0m\u001b[1;33m\u001b[0m\u001b[0m\n\u001b[1;32m--> 459\u001b[1;33m   \u001b[1;32mreturn\u001b[0m \u001b[0mf\u001b[0m\u001b[1;33m(\u001b[0m\u001b[1;33m*\u001b[0m\u001b[0margs\u001b[0m\u001b[1;33m)\u001b[0m\u001b[1;33m\u001b[0m\u001b[1;33m\u001b[0m\u001b[0m\n\u001b[0m\u001b[0;32m    460\u001b[0m \u001b[1;33m\u001b[0m\u001b[0m\n\u001b[0;32m    461\u001b[0m \u001b[1;33m\u001b[0m\u001b[0m\n",
      "\u001b[1;32m~\\anaconda3\\envs\\openvino_env\\lib\\site-packages\\tensorflow\\python\\ops\\io_ops.py\u001b[0m in \u001b[0;36mread_file\u001b[1;34m(filename, name)\u001b[0m\n\u001b[0;32m    131\u001b[0m     \u001b[0mA\u001b[0m \u001b[0mtensor\u001b[0m \u001b[0mof\u001b[0m \u001b[0mdtype\u001b[0m \u001b[1;34m\"string\"\u001b[0m\u001b[1;33m,\u001b[0m \u001b[1;32mwith\u001b[0m \u001b[0mthe\u001b[0m \u001b[0mfile\u001b[0m \u001b[0mcontents\u001b[0m\u001b[1;33m.\u001b[0m\u001b[1;33m\u001b[0m\u001b[1;33m\u001b[0m\u001b[0m\n\u001b[0;32m    132\u001b[0m   \"\"\"\n\u001b[1;32m--> 133\u001b[1;33m   \u001b[1;32mreturn\u001b[0m \u001b[0mgen_io_ops\u001b[0m\u001b[1;33m.\u001b[0m\u001b[0mread_file\u001b[0m\u001b[1;33m(\u001b[0m\u001b[0mfilename\u001b[0m\u001b[1;33m,\u001b[0m \u001b[0mname\u001b[0m\u001b[1;33m)\u001b[0m\u001b[1;33m\u001b[0m\u001b[1;33m\u001b[0m\u001b[0m\n\u001b[0m\u001b[0;32m    134\u001b[0m \u001b[1;33m\u001b[0m\u001b[0m\n\u001b[0;32m    135\u001b[0m \u001b[1;33m\u001b[0m\u001b[0m\n",
      "\u001b[1;32m~\\anaconda3\\envs\\openvino_env\\lib\\site-packages\\tensorflow\\python\\ops\\gen_io_ops.py\u001b[0m in \u001b[0;36mread_file\u001b[1;34m(filename, name)\u001b[0m\n\u001b[0;32m    568\u001b[0m       \u001b[1;32mpass\u001b[0m  \u001b[1;31m# Add nodes to the TensorFlow graph.\u001b[0m\u001b[1;33m\u001b[0m\u001b[1;33m\u001b[0m\u001b[0m\n\u001b[0;32m    569\u001b[0m   \u001b[1;31m# Add nodes to the TensorFlow graph.\u001b[0m\u001b[1;33m\u001b[0m\u001b[1;33m\u001b[0m\u001b[1;33m\u001b[0m\u001b[0m\n\u001b[1;32m--> 570\u001b[1;33m   _, _, _op, _outputs = _op_def_library._apply_op_helper(\n\u001b[0m\u001b[0;32m    571\u001b[0m         \"ReadFile\", filename=filename, name=name)\n\u001b[0;32m    572\u001b[0m   \u001b[0m_result\u001b[0m \u001b[1;33m=\u001b[0m \u001b[0m_outputs\u001b[0m\u001b[1;33m[\u001b[0m\u001b[1;33m:\u001b[0m\u001b[1;33m]\u001b[0m\u001b[1;33m\u001b[0m\u001b[1;33m\u001b[0m\u001b[0m\n",
      "\u001b[1;32m~\\anaconda3\\envs\\openvino_env\\lib\\site-packages\\tensorflow\\python\\framework\\op_def_library.py\u001b[0m in \u001b[0;36m_apply_op_helper\u001b[1;34m(op_type_name, name, **keywords)\u001b[0m\n\u001b[0;32m    777\u001b[0m   \u001b[1;32mwith\u001b[0m \u001b[0mg\u001b[0m\u001b[1;33m.\u001b[0m\u001b[0mas_default\u001b[0m\u001b[1;33m(\u001b[0m\u001b[1;33m)\u001b[0m\u001b[1;33m,\u001b[0m \u001b[0mops\u001b[0m\u001b[1;33m.\u001b[0m\u001b[0mname_scope\u001b[0m\u001b[1;33m(\u001b[0m\u001b[0mname\u001b[0m\u001b[1;33m)\u001b[0m \u001b[1;32mas\u001b[0m \u001b[0mscope\u001b[0m\u001b[1;33m:\u001b[0m\u001b[1;33m\u001b[0m\u001b[1;33m\u001b[0m\u001b[0m\n\u001b[0;32m    778\u001b[0m     \u001b[1;32mif\u001b[0m \u001b[0mfallback\u001b[0m\u001b[1;33m:\u001b[0m\u001b[1;33m\u001b[0m\u001b[1;33m\u001b[0m\u001b[0m\n\u001b[1;32m--> 779\u001b[1;33m       _ExtractInputsAndAttrs(op_type_name, op_def, allowed_list_attr_map,\n\u001b[0m\u001b[0;32m    780\u001b[0m                              \u001b[0mkeywords\u001b[0m\u001b[1;33m,\u001b[0m \u001b[0mdefault_type_attr_map\u001b[0m\u001b[1;33m,\u001b[0m \u001b[0mattrs\u001b[0m\u001b[1;33m,\u001b[0m \u001b[0minputs\u001b[0m\u001b[1;33m,\u001b[0m\u001b[1;33m\u001b[0m\u001b[1;33m\u001b[0m\u001b[0m\n\u001b[0;32m    781\u001b[0m                              input_types)\n",
      "\u001b[1;32m~\\anaconda3\\envs\\openvino_env\\lib\\site-packages\\tensorflow\\python\\framework\\op_def_library.py\u001b[0m in \u001b[0;36m_ExtractInputsAndAttrs\u001b[1;34m(op_type_name, op_def, allowed_list_attr_map, keywords, default_type_attr_map, attrs, inputs, input_types)\u001b[0m\n\u001b[0;32m    577\u001b[0m                   (input_name, op_type_name, observed))\n\u001b[0;32m    578\u001b[0m         \u001b[1;32mif\u001b[0m \u001b[0minput_arg\u001b[0m\u001b[1;33m.\u001b[0m\u001b[0mtype\u001b[0m \u001b[1;33m!=\u001b[0m \u001b[0mtypes_pb2\u001b[0m\u001b[1;33m.\u001b[0m\u001b[0mDT_INVALID\u001b[0m\u001b[1;33m:\u001b[0m\u001b[1;33m\u001b[0m\u001b[1;33m\u001b[0m\u001b[0m\n\u001b[1;32m--> 579\u001b[1;33m           raise TypeError(f\"{prefix} expected type of \"\n\u001b[0m\u001b[0;32m    580\u001b[0m                           f\"{dtypes.as_dtype(input_arg.type).name}.\")\n\u001b[0;32m    581\u001b[0m         \u001b[1;32melse\u001b[0m\u001b[1;33m:\u001b[0m\u001b[1;33m\u001b[0m\u001b[1;33m\u001b[0m\u001b[0m\n",
      "\u001b[1;31mTypeError\u001b[0m: in user code:\n\n    File \"<ipython-input-12-47a48a190c43>\", line 2, in preprocess_twin  *\n        return (preprocess(input_img), preprocess(validation_img), label)\n    File \"<ipython-input-9-d5398deac772>\", line 4, in preprocess  *\n        byte_img = tf.io.read_file(file_path)\n\n    TypeError: Input 'filename' of 'ReadFile' Op has type float32 that does not match expected type of string.\n"
     ]
    }
   ],
   "source": [
    "def preprocess_twin(input_img, validation_img, label):\n",
    "    return (preprocess(input_img), preprocess(validation_img), label)\n",
    "\n",
    "\n",
    "#Build dataloader pipeline\n",
    "data = data.map(preprocess_twin)\n",
    "data = data.cache()\n",
    "data = data.shuffle(buffer_size = 1024)"
   ]
  },
  {
   "cell_type": "code",
   "execution_count": 15,
   "id": "3884f5cf-2703-4b64-a0d9-565b3de07506",
   "metadata": {},
   "outputs": [],
   "source": [
    "#Training partition\n",
    "train_data = data.take(round(len(data)*.7))\n",
    "train_data = train_data.batch(16)\n",
    "train_data = train_data.prefetch(8)"
   ]
  },
  {
   "cell_type": "code",
   "execution_count": 16,
   "id": "88d5de41-1683-447c-8097-d836a527a30f",
   "metadata": {},
   "outputs": [],
   "source": [
    "#Testing Partition\n",
    "test_data = data.skip(round(len(data)*.7))\n",
    "test_data = test_data.take(round(len(data)*.3))\n",
    "test_data = test_data.batch(16)\n",
    "test_data = test_data.prefetch(8)"
   ]
  },
  {
   "cell_type": "markdown",
   "id": "c690114c-5354-4f7d-9652-f642758ee85e",
   "metadata": {},
   "source": [
    "<h1>4 Model Engineering"
   ]
  },
  {
   "cell_type": "markdown",
   "id": "35686b94-3fd4-48b8-8a31-e150f1d3d001",
   "metadata": {},
   "source": [
    "<h3>4.1 Building Embedding Layer"
   ]
  },
  {
   "cell_type": "code",
   "execution_count": 25,
   "id": "077acfb9-7c72-450b-b562-54da14b24e9c",
   "metadata": {},
   "outputs": [],
   "source": [
    "def embedding_layer():\n",
    "    inp = Input(shape = (100,100,3), name = 'input_image')\n",
    "    \n",
    "    #First Block\n",
    "    c1 = Conv2D(64, (10,10), activation = 'relu')(inp)\n",
    "    m1 = MaxPooling2D(64, (2,2), padding = 'same')(c1)\n",
    "    \n",
    "    #Second Block\n",
    "    c2 = Conv2D(128, (7,7), activation = 'relu')(m1)\n",
    "    m2 = MaxPooling2D(64, (2,2), padding = 'same')(c2)\n",
    "    \n",
    "    #Third Block\n",
    "    c3 = Conv2D(128, (4,4), activation = 'relu')(m2)\n",
    "    m3 = MaxPooling2D(64, (2,2), padding = 'same')(c3)\n",
    "    \n",
    "    #Final Block\n",
    "    c4 = Conv2D(256, (4,4), activation = 'relu')(m3)\n",
    "    f1 = Flatten()(c4)\n",
    "    d1 = Dense(4096, activation = 'sigmoid')(f1)\n",
    "    \n",
    "    #Return Model\n",
    "    return Model(inputs = [inp], outputs = [d1], name = 'embedding')"
   ]
  },
  {
   "cell_type": "code",
   "execution_count": 26,
   "id": "0acb212b-42f8-471d-abd0-7716a17106cf",
   "metadata": {},
   "outputs": [
    {
     "name": "stdout",
     "output_type": "stream",
     "text": [
      "Model: \"embedding\"\n",
      "_________________________________________________________________\n",
      " Layer (type)                Output Shape              Param #   \n",
      "=================================================================\n",
      " input_image (InputLayer)    [(None, 100, 100, 3)]     0         \n",
      "                                                                 \n",
      " conv2d_1 (Conv2D)           (None, 91, 91, 64)        19264     \n",
      "                                                                 \n",
      " max_pooling2d_1 (MaxPooling  (None, 46, 46, 64)       0         \n",
      " 2D)                                                             \n",
      "                                                                 \n",
      " conv2d_2 (Conv2D)           (None, 40, 40, 128)       401536    \n",
      "                                                                 \n",
      " max_pooling2d_2 (MaxPooling  (None, 20, 20, 128)      0         \n",
      " 2D)                                                             \n",
      "                                                                 \n",
      " conv2d_3 (Conv2D)           (None, 17, 17, 128)       262272    \n",
      "                                                                 \n",
      " max_pooling2d_3 (MaxPooling  (None, 9, 9, 128)        0         \n",
      " 2D)                                                             \n",
      "                                                                 \n",
      " conv2d_4 (Conv2D)           (None, 6, 6, 256)         524544    \n",
      "                                                                 \n",
      " flatten (Flatten)           (None, 9216)              0         \n",
      "                                                                 \n",
      " dense (Dense)               (None, 4096)              37752832  \n",
      "                                                                 \n",
      "=================================================================\n",
      "Total params: 38,960,448\n",
      "Trainable params: 38,960,448\n",
      "Non-trainable params: 0\n",
      "_________________________________________________________________\n"
     ]
    }
   ],
   "source": [
    "embedding = embedding_layer()\n",
    "embedding.summary()"
   ]
  },
  {
   "cell_type": "markdown",
   "id": "eee98cb0-a6a1-4625-afc1-c71bc73e282c",
   "metadata": {},
   "source": [
    "<h3>4.2 Building Distance Layer"
   ]
  },
  {
   "cell_type": "code",
   "execution_count": 27,
   "id": "6823d5c5-2bbb-45f2-94f2-a4cb8436189d",
   "metadata": {},
   "outputs": [],
   "source": [
    "class L1Dist(Layer):\n",
    "    def __init__(self, **kwargs):\n",
    "        super().__init__()\n",
    "        \n",
    "    def call(self, input_embedding, validation_embedding):\n",
    "        return tf.math.abs(input_embedding - validation_embedding)"
   ]
  },
  {
   "cell_type": "markdown",
   "id": "da118f55-ac84-4deb-8a73-2be18e88778c",
   "metadata": {},
   "source": [
    "<h3>4.3 Make Siamese Model"
   ]
  },
  {
   "cell_type": "code",
   "execution_count": 28,
   "id": "41254a9a-5936-48bd-9ce3-57ba5df73063",
   "metadata": {},
   "outputs": [],
   "source": [
    "def make_siamese_model():\n",
    "    \n",
    "    #Anchor image input in the network\n",
    "    input_image = Input(name = 'input_img', shape = (100,100,3))\n",
    "    \n",
    "    #Validation image in the network\n",
    "    validation_image = Input(name = 'validation_img', shape = (100,100,3))\n",
    "    \n",
    "    #Combine Siamese Distance components\n",
    "    siamese_layer = L1Dist()\n",
    "    siamese_layer._name = 'distance'\n",
    "    distances = siamese_layer(embedding(input_image), embedding(validation_image))\n",
    "    \n",
    "    #Classification Layer\n",
    "    classifier = Dense(1, activation = 'sigmoid')(distances)\n",
    "    \n",
    "    #Return Model\n",
    "    return Model(inputs = [input_image, validation_image], outputs = classifier, name = 'SiameseNetwork')"
   ]
  },
  {
   "cell_type": "code",
   "execution_count": 29,
   "id": "e29879c3-3823-451f-a1a4-09f6cd207563",
   "metadata": {},
   "outputs": [
    {
     "name": "stdout",
     "output_type": "stream",
     "text": [
      "Model: \"SiameseNetwork\"\n",
      "__________________________________________________________________________________________________\n",
      " Layer (type)                   Output Shape         Param #     Connected to                     \n",
      "==================================================================================================\n",
      " input_img (InputLayer)         [(None, 100, 100, 3  0           []                               \n",
      "                                )]                                                                \n",
      "                                                                                                  \n",
      " validation_img (InputLayer)    [(None, 100, 100, 3  0           []                               \n",
      "                                )]                                                                \n",
      "                                                                                                  \n",
      " embedding (Functional)         (None, 4096)         38960448    ['input_img[0][0]',              \n",
      "                                                                  'validation_img[0][0]']         \n",
      "                                                                                                  \n",
      " distance (L1Dist)              (None, 4096)         0           ['embedding[0][0]',              \n",
      "                                                                  'embedding[1][0]']              \n",
      "                                                                                                  \n",
      " dense_1 (Dense)                (None, 1)            4097        ['distance[0][0]']               \n",
      "                                                                                                  \n",
      "==================================================================================================\n",
      "Total params: 38,964,545\n",
      "Trainable params: 38,964,545\n",
      "Non-trainable params: 0\n",
      "__________________________________________________________________________________________________\n"
     ]
    }
   ],
   "source": [
    "siamese_model = make_siamese_model()\n",
    "siamese_model.summary()"
   ]
  },
  {
   "cell_type": "markdown",
   "id": "4f3480ed-5e87-41fd-80ad-ca9838c0c536",
   "metadata": {},
   "source": [
    "<h1>5 Training"
   ]
  },
  {
   "cell_type": "markdown",
   "id": "6a92e9b1-416b-4af9-9c9d-1b1d62c6b6a2",
   "metadata": {},
   "source": [
    "<h3>5.1 Setup Loss and Optimizer"
   ]
  },
  {
   "cell_type": "code",
   "execution_count": 30,
   "id": "87ca2d12-3149-4095-ae1b-7223804d2061",
   "metadata": {},
   "outputs": [],
   "source": [
    "binary_cross_loss = tf.losses.BinaryCrossentropy()\n",
    "\n",
    "#Set optimizer with loss value = 0.0001(1e-4)\n",
    "opt = tf.keras.optimizers.Adam(1e-4)"
   ]
  },
  {
   "cell_type": "markdown",
   "id": "8ff7bacf-fb80-4134-9371-e7250f65aa9d",
   "metadata": {},
   "source": [
    "<h3>5.2 Establish Checkpoints"
   ]
  },
  {
   "cell_type": "code",
   "execution_count": 31,
   "id": "5cf4739a-d2b8-4da0-9828-b24d9a72cb85",
   "metadata": {},
   "outputs": [],
   "source": [
    "checkpoint_dir = './training_checkpoints'\n",
    "checkpoint_prefix = os.path.join(checkpoint_dir, 'ckpt')\n",
    "checkpoint = tf.train.Checkpoint(opt = opt, siamese_model = siamese_model)"
   ]
  },
  {
   "cell_type": "markdown",
   "id": "6e4dead8-3ecd-42a6-956f-8fffb7d22ef1",
   "metadata": {},
   "source": [
    "<h3>5.3 Build and Train Step Function"
   ]
  },
  {
   "cell_type": "code",
   "execution_count": 32,
   "id": "e488e5a9-691d-4853-81bb-f9eb3b871924",
   "metadata": {},
   "outputs": [
    {
     "data": {
      "text/plain": [
       "(array([[[[0.23788235, 0.27894115, 0.30678433],\n",
       "          [0.24160784, 0.2855294 , 0.29611766],\n",
       "          [0.28764704, 0.32      , 0.33      ],\n",
       "          ...,\n",
       "          [0.35058823, 0.3809804 , 0.34529412],\n",
       "          [0.37752846, 0.41799897, 0.37243083],\n",
       "          [0.42380345, 0.45231342, 0.45070592]],\n",
       " \n",
       "         [[0.25807846, 0.29564705, 0.29803923],\n",
       "          [0.23898038, 0.28066668, 0.2873333 ],\n",
       "          [0.21843135, 0.25392157, 0.26588237],\n",
       "          ...,\n",
       "          [0.4654902 , 0.48803923, 0.45039216],\n",
       "          [0.2797638 , 0.33411697, 0.32278383],\n",
       "          [0.41960856, 0.45768675, 0.39298102]],\n",
       " \n",
       "         [[0.31039217, 0.33333334, 0.30960783],\n",
       "          [0.29960784, 0.32960784, 0.29215688],\n",
       "          [0.37058824, 0.40490195, 0.36862746],\n",
       "          ...,\n",
       "          [0.44607842, 0.48039216, 0.42843136],\n",
       "          [0.39843416, 0.4186301 , 0.38117915],\n",
       "          [0.34960806, 0.37313747, 0.34921575]],\n",
       " \n",
       "         ...,\n",
       " \n",
       "         [[0.63450974, 0.6364707 , 0.6403925 ],\n",
       "          [0.6262745 , 0.63019633, 0.62039226],\n",
       "          [0.601961  , 0.6078435 , 0.6009807 ],\n",
       "          ...,\n",
       "          [0.71176505, 0.76274496, 0.7490194 ],\n",
       "          [0.71196085, 0.7649017 , 0.75117606],\n",
       "          [0.6954908 , 0.76215696, 0.7523529 ]],\n",
       " \n",
       "         [[0.60200006, 0.60200006, 0.6098432 ],\n",
       "          [0.6169802 , 0.6169802 , 0.6169802 ],\n",
       "          [0.5909807 , 0.5949023 , 0.59294146],\n",
       "          ...,\n",
       "          [0.715098  , 0.7594118 , 0.7556862 ],\n",
       "          [0.7206665 , 0.7598822 , 0.75596064],\n",
       "          [0.7022745 , 0.75333333, 0.75333333]],\n",
       " \n",
       "         [[0.59462744, 0.58678424, 0.598549  ],\n",
       "          [0.5988235 , 0.59098035, 0.5949019 ],\n",
       "          [0.5813725 , 0.57745093, 0.5794117 ],\n",
       "          ...,\n",
       "          [0.7129411 , 0.7539215 , 0.74470586],\n",
       "          [0.7058824 , 0.752549  , 0.7439215 ],\n",
       "          [0.6960784 , 0.75019604, 0.74941164]]],\n",
       " \n",
       " \n",
       "        [[[0.25866666, 0.2897647 , 0.30717647],\n",
       "          [0.2405098 , 0.27227452, 0.28199998],\n",
       "          [0.29607844, 0.3254902 , 0.32196078],\n",
       "          ...,\n",
       "          [0.34196076, 0.3454902 , 0.357451  ],\n",
       "          [0.37815607, 0.410705  , 0.35109773],\n",
       "          [0.4446666 , 0.45976466, 0.3987453 ]],\n",
       " \n",
       "         [[0.27258825, 0.31172547, 0.2901961 ],\n",
       "          [0.23215686, 0.287451  , 0.26956862],\n",
       "          [0.2290196 , 0.29588234, 0.2798039 ],\n",
       "          ...,\n",
       "          [0.4364706 , 0.49490198, 0.4137255 ],\n",
       "          [0.2687438 , 0.3078025 , 0.2403521 ],\n",
       "          [0.4432552 , 0.45623562, 0.39717683]],\n",
       " \n",
       "         [[0.30058825, 0.3319608 , 0.3084314 ],\n",
       "          [0.29058823, 0.32960784, 0.2988235 ],\n",
       "          [0.35980392, 0.39607844, 0.36568627],\n",
       "          ...,\n",
       "          [0.45196077, 0.48333332, 0.41568628],\n",
       "          [0.36156988, 0.4088247 , 0.37451124],\n",
       "          [0.33019662, 0.36921614, 0.32137296]],\n",
       " \n",
       "         ...,\n",
       " \n",
       "         [[0.29450917, 0.34352913, 0.34921515],\n",
       "          [0.6270595 , 0.6335301 , 0.6298046 ],\n",
       "          [0.6588233 , 0.6647055 , 0.6617644 ],\n",
       "          ...,\n",
       "          [0.71764684, 0.7764701 , 0.77745044],\n",
       "          [0.70764744, 0.76451033, 0.7586276 ],\n",
       "          [0.70843166, 0.7515689 , 0.7633334 ]],\n",
       " \n",
       "         [[0.5453342 , 0.569687  , 0.56184393],\n",
       "          [0.6473725 , 0.6555686 , 0.6436863 ],\n",
       "          [0.6447057 , 0.65372545, 0.6498039 ],\n",
       "          ...,\n",
       "          [0.7182353 , 0.7641176 , 0.75686276],\n",
       "          [0.71490204, 0.77019596, 0.7596078 ],\n",
       "          [0.7083139 , 0.7655294 , 0.7549412 ]],\n",
       " \n",
       "         [[0.638549  , 0.6554117 , 0.6672941 ],\n",
       "          [0.6305882 , 0.6384313 , 0.63450974],\n",
       "          [0.6203922 , 0.6156863 , 0.61784315],\n",
       "          ...,\n",
       "          [0.7056863 , 0.7486274 , 0.7423529 ],\n",
       "          [0.7062744 , 0.7525489 , 0.7458823 ],\n",
       "          [0.69596076, 0.74223524, 0.7347843 ]]],\n",
       " \n",
       " \n",
       "        [[[0.26027453, 0.292549  , 0.2909804 ],\n",
       "          [0.2552941 , 0.30313727, 0.30431372],\n",
       "          [0.28117645, 0.33078432, 0.31156862],\n",
       "          ...,\n",
       "          [0.33999997, 0.35784313, 0.37156862],\n",
       "          [0.41713652, 0.42215616, 0.3983131 ],\n",
       "          [0.43286234, 0.4496074 , 0.44172525]],\n",
       " \n",
       "         [[0.25168628, 0.29529414, 0.29878432],\n",
       "          [0.22050978, 0.26184312, 0.26509804],\n",
       "          [0.24431372, 0.28215685, 0.27294117],\n",
       "          ...,\n",
       "          [0.5009804 , 0.50705886, 0.46470588],\n",
       "          [0.31870484, 0.3175284 , 0.28592038],\n",
       "          [0.45733395, 0.48678485, 0.41815764]],\n",
       " \n",
       "         [[0.31843135, 0.3380392 , 0.312549  ],\n",
       "          [0.31156862, 0.3272549 , 0.29588234],\n",
       "          [0.39607844, 0.43235293, 0.35980392],\n",
       "          ...,\n",
       "          [0.47941175, 0.49607843, 0.45588234],\n",
       "          [0.39706   , 0.40568727, 0.37254998],\n",
       "          [0.36215714, 0.3998041 , 0.3311764 ]],\n",
       " \n",
       "         ...,\n",
       " \n",
       "         [[0.26235312, 0.31568646, 0.33568648],\n",
       "          [0.28901997, 0.36470628, 0.42117673],\n",
       "          [0.48431575, 0.55196273, 0.60000145],\n",
       "          ...,\n",
       "          [0.70588297, 0.7627453 , 0.7627453 ],\n",
       "          [0.70607823, 0.7629408 , 0.7707837 ],\n",
       "          [0.69490236, 0.75372565, 0.7556866 ]],\n",
       " \n",
       "         [[0.28886256, 0.3265099 , 0.34811777],\n",
       "          [0.4019226 , 0.49709916, 0.5065111 ],\n",
       "          [0.6835295 , 0.7139215 , 0.7190196 ],\n",
       "          ...,\n",
       "          [0.70156884, 0.7527452 , 0.7474511 ],\n",
       "          [0.7160786 , 0.7713725 , 0.7607843 ],\n",
       "          [0.70231384, 0.75760776, 0.7470196 ]],\n",
       " \n",
       "         [[0.39607885, 0.45607868, 0.5151375 ],\n",
       "          [0.63203967, 0.66819644, 0.70113754],\n",
       "          [0.6650981 , 0.6678432 , 0.6794118 ],\n",
       "          ...,\n",
       "          [0.7115686 , 0.7511765 , 0.75058824],\n",
       "          [0.71960783, 0.7454508 , 0.7361174 ],\n",
       "          [0.7086275 , 0.73674506, 0.72733337]]],\n",
       " \n",
       " \n",
       "        ...,\n",
       " \n",
       " \n",
       "        [[[0.2624706 , 0.3232549 , 0.32352942],\n",
       "          [0.32937258, 0.38513726, 0.38670588],\n",
       "          [0.3647059 , 0.3992157 , 0.40294117],\n",
       "          ...,\n",
       "          [0.40901962, 0.44235295, 0.4054902 ],\n",
       "          [0.469802  , 0.5247431 , 0.38627326],\n",
       "          [0.5397258 , 0.55815715, 0.53556895]],\n",
       " \n",
       "         [[0.3107451 , 0.37043136, 0.36807844],\n",
       "          [0.3219608 , 0.36992157, 0.3672157 ],\n",
       "          [0.3105882 , 0.36607844, 0.33372548],\n",
       "          ...,\n",
       "          [0.56490195, 0.5870588 , 0.5501961 ],\n",
       "          [0.36803907, 0.37482327, 0.3421574 ],\n",
       "          [0.5527454 , 0.57588255, 0.46282372]],\n",
       " \n",
       "         [[0.38274512, 0.42784315, 0.36862746],\n",
       "          [0.37862745, 0.43156865, 0.35117647],\n",
       "          [0.5019608 , 0.54509807, 0.4372549 ],\n",
       "          ...,\n",
       "          [0.58235294, 0.5892157 , 0.5294118 ],\n",
       "          [0.5039225 , 0.5272559 , 0.40470666],\n",
       "          [0.44862852, 0.47254997, 0.37921646]],\n",
       " \n",
       "         ...,\n",
       " \n",
       "         [[0.7168626 , 0.7031375 , 0.71686286],\n",
       "          [0.7168627 , 0.7131372 , 0.70137274],\n",
       "          [0.7039219 , 0.7039219 , 0.6911771 ],\n",
       "          ...,\n",
       "          [0.7098043 , 0.7401964 , 0.734314  ],\n",
       "          [0.6796079 , 0.72274494, 0.71333337],\n",
       "          [0.7203926 , 0.7750981 , 0.76078427]],\n",
       " \n",
       "         [[0.70219624, 0.6982747 , 0.7178825 ],\n",
       "          [0.67894095, 0.67894095, 0.67894095],\n",
       "          [0.69313705, 0.68803895, 0.690588  ],\n",
       "          ...,\n",
       "          [0.79980403, 0.81156874, 0.8037256 ],\n",
       "          [0.67105836, 0.6865094 , 0.6825878 ],\n",
       "          [0.69831336, 0.7476466 , 0.72101915]],\n",
       " \n",
       "         [[0.69137245, 0.6874509 , 0.7070587 ],\n",
       "          [0.70239216, 0.6866275 , 0.69058824],\n",
       "          [0.70254904, 0.6829412 , 0.68529415],\n",
       "          ...,\n",
       "          [0.8119608 , 0.8119608 , 0.81235296],\n",
       "          [0.7383521 , 0.7454111 , 0.7403915 ],\n",
       "          [0.6376862 , 0.69494104, 0.6952156 ]]],\n",
       " \n",
       " \n",
       "        [[[0.26039216, 0.31019607, 0.29529414],\n",
       "          [0.2592549 , 0.30788237, 0.30117646],\n",
       "          [0.29490194, 0.3370588 , 0.31588235],\n",
       "          ...,\n",
       "          [0.35156864, 0.35490197, 0.37725493],\n",
       "          [0.40333235, 0.4155282 , 0.38254762],\n",
       "          [0.40450954, 0.44949004, 0.41145077]],\n",
       " \n",
       "         [[0.23098038, 0.292549  , 0.27607843],\n",
       "          [0.23545098, 0.30760786, 0.29505882],\n",
       "          [0.25019607, 0.30274507, 0.28941178],\n",
       "          ...,\n",
       "          [0.48960784, 0.51705885, 0.44568628],\n",
       "          [0.29835248, 0.3116857 , 0.32278413],\n",
       "          [0.43200022, 0.46729434, 0.4586669 ]],\n",
       " \n",
       "         [[0.33078435, 0.3360784 , 0.2988235 ],\n",
       "          [0.32333332, 0.34098038, 0.2998039 ],\n",
       "          [0.3990196 , 0.422549  , 0.37745097],\n",
       "          ...,\n",
       "          [0.46960783, 0.50490195, 0.4107843 ],\n",
       "          [0.3974521 , 0.43941316, 0.37921694],\n",
       "          [0.35509932, 0.3919619 , 0.32882452]],\n",
       " \n",
       "         ...,\n",
       " \n",
       "         [[0.28431386, 0.3211766 , 0.36156875],\n",
       "          [0.29215696, 0.34235317, 0.41235355],\n",
       "          [0.31274563, 0.46372616, 0.51274586],\n",
       "          ...,\n",
       "          [0.7205884 , 0.77352947, 0.7745098 ],\n",
       "          [0.7119608 , 0.77999985, 0.7707839 ],\n",
       "          [0.713726  , 0.7725493 , 0.7705886 ]],\n",
       " \n",
       "         [[0.2709412 , 0.33090177, 0.37317657],\n",
       "          [0.2930191 , 0.40992123, 0.47160745],\n",
       "          [0.63353   , 0.669608  , 0.72000015],\n",
       "          ...,\n",
       "          [0.7272546 , 0.7737252 , 0.76470554],\n",
       "          [0.7252158 , 0.7722746 , 0.7644315 ],\n",
       "          [0.7243138 , 0.7713726 , 0.7713726 ]],\n",
       " \n",
       "         [[0.30247042, 0.38431373, 0.43631357],\n",
       "          [0.58854944, 0.65117675, 0.68223554],\n",
       "          [0.6968627 , 0.7168627 , 0.7139215 ],\n",
       "          ...,\n",
       "          [0.7235294 , 0.7590196 , 0.75999993],\n",
       "          [0.7023526 , 0.75999993, 0.7486273 ],\n",
       "          [0.69921577, 0.76196086, 0.7580393 ]]],\n",
       " \n",
       " \n",
       "        [[[0.2449804 , 0.28498042, 0.28262746],\n",
       "          [0.23654902, 0.29733333, 0.2800784 ],\n",
       "          [0.28411764, 0.3362745 , 0.31882355],\n",
       "          ...,\n",
       "          [0.32490197, 0.3407843 , 0.36509803],\n",
       "          [0.41137102, 0.44556698, 0.34195897],\n",
       "          [0.43639186, 0.4431761 , 0.42399994]],\n",
       " \n",
       "         [[0.23168626, 0.27992156, 0.26784316],\n",
       "          [0.23815686, 0.29635295, 0.28941178],\n",
       "          [0.2454902 , 0.2937255 , 0.28      ],\n",
       "          ...,\n",
       "          [0.47784317, 0.5035294 , 0.45823532],\n",
       "          [0.26619628, 0.35007894, 0.29298136],\n",
       "          [0.449765  , 0.49129456, 0.4352162 ]],\n",
       " \n",
       "         [[0.29137257, 0.33254904, 0.30509806],\n",
       "          [0.30411765, 0.3364706 , 0.30529416],\n",
       "          [0.3970588 , 0.4343137 , 0.35686275],\n",
       "          ...,\n",
       "          [0.45294118, 0.4852941 , 0.4254902 ],\n",
       "          [0.36196193, 0.41607976, 0.41117758],\n",
       "          [0.34784344, 0.38549063, 0.33725515]],\n",
       " \n",
       "         ...,\n",
       " \n",
       "         [[0.29117715, 0.34215754, 0.37411836],\n",
       "          [0.58353126, 0.59333485, 0.60274655],\n",
       "          [0.6745096 , 0.6823527 , 0.67843115],\n",
       "          ...,\n",
       "          [0.7127455 , 0.76764715, 0.75098014],\n",
       "          [0.71156853, 0.77235276, 0.7531366 ],\n",
       "          [0.7103928 , 0.7652945 , 0.739412  ]],\n",
       " \n",
       "         [[0.48333424, 0.52364784, 0.55235374],\n",
       "          [0.6619994 , 0.6588621 , 0.6427837 ],\n",
       "          [0.6447057 , 0.6486273 , 0.6505881 ],\n",
       "          ...,\n",
       "          [0.71960783, 0.7647059 , 0.7529412 ],\n",
       "          [0.71686244, 0.76392126, 0.7560781 ],\n",
       "          [0.69878435, 0.7536863 , 0.7540393 ]],\n",
       " \n",
       "         [[0.6483138 , 0.6630981 , 0.6687059 ],\n",
       "          [0.63490194, 0.63560784, 0.6281961 ],\n",
       "          [0.6203921 , 0.6203921 , 0.6203921 ],\n",
       "          ...,\n",
       "          [0.69921565, 0.75156856, 0.73803914],\n",
       "          [0.7030587 , 0.7532547 , 0.72698027],\n",
       "          [0.70313734, 0.7528234 , 0.73713726]]]], dtype=float32),\n",
       " array([[[[0.25725493, 0.3011765 , 0.27176473],\n",
       "          [0.25411767, 0.30274507, 0.26592156],\n",
       "          [0.28686276, 0.32803923, 0.29509804],\n",
       "          ...,\n",
       "          [0.2927451 , 0.33431372, 0.30235294],\n",
       "          [0.3549404 , 0.4047048 , 0.30317608],\n",
       "          [0.4134114 , 0.4566663 , 0.40152916]],\n",
       " \n",
       "         [[0.24819608, 0.31654903, 0.26278433],\n",
       "          [0.23435293, 0.30090198, 0.25552943],\n",
       "          [0.21823528, 0.26686272, 0.23666666],\n",
       "          ...,\n",
       "          [0.44588235, 0.48058826, 0.4035294 ],\n",
       "          [0.2748616 , 0.2948615 , 0.26897973],\n",
       "          [0.41364747, 0.44702   , 0.38349065]],\n",
       " \n",
       "         [[0.30705884, 0.34137255, 0.28156865],\n",
       "          [0.29862744, 0.32607841, 0.28098038],\n",
       "          [0.37156862, 0.39803922, 0.33039215],\n",
       "          ...,\n",
       "          [0.4137255 , 0.45686275, 0.39509803],\n",
       "          [0.38000104, 0.3996089 , 0.39451066],\n",
       "          [0.33647102, 0.38352984, 0.30372566]],\n",
       " \n",
       "         ...,\n",
       " \n",
       "         [[0.28058794, 0.2864704 , 0.28843084],\n",
       "          [0.2752942 , 0.3160785 , 0.35431397],\n",
       "          [0.24607825, 0.35490173, 0.44803938],\n",
       "          ...,\n",
       "          [0.70098007, 0.7588235 , 0.73529375],\n",
       "          [0.68862724, 0.74745077, 0.7239211 ],\n",
       "          [0.6982359 , 0.75352967, 0.7392158 ]],\n",
       " \n",
       "         [[0.25647044, 0.2972157 , 0.2921177 ],\n",
       "          [0.24564697, 0.31788236, 0.37596086],\n",
       "          [0.22647041, 0.33411756, 0.44215667],\n",
       "          ...,\n",
       "          [0.68411773, 0.74960786, 0.72666675],\n",
       "          [0.69070566, 0.7573723 , 0.7338429 ],\n",
       "          [0.6917644 , 0.750588  , 0.7388233 ]],\n",
       " \n",
       "         [[0.23921569, 0.3035294 , 0.3291373 ],\n",
       "          [0.20313723, 0.30196077, 0.38078427],\n",
       "          [0.20078436, 0.31764707, 0.40607846],\n",
       "          ...,\n",
       "          [0.6845098 , 0.73117644, 0.72254896],\n",
       "          [0.6948627 , 0.75290185, 0.7254509 ],\n",
       "          [0.68584317, 0.75250983, 0.72035295]]],\n",
       " \n",
       " \n",
       "        [[[0.28117645, 0.30156863, 0.31658825],\n",
       "          [0.2827451 , 0.30313727, 0.31607842],\n",
       "          [0.30470586, 0.32686275, 0.33450982],\n",
       "          ...,\n",
       "          [0.40411767, 0.41215685, 0.3782353 ],\n",
       "          [0.36172402, 0.3963122 , 0.29219502],\n",
       "          [0.42482308, 0.4559211 , 0.41388193]],\n",
       " \n",
       "         [[0.24109803, 0.30501962, 0.2960392 ],\n",
       "          [0.22392157, 0.2992157 , 0.2857255 ],\n",
       "          [0.21882352, 0.28764704, 0.27137253],\n",
       "          ...,\n",
       "          [0.5172549 , 0.53156865, 0.4552941 ],\n",
       "          [0.28556898, 0.29368687, 0.33709866],\n",
       "          [0.409608  , 0.44098055, 0.3868628 ]],\n",
       " \n",
       "         [[0.3084314 , 0.3319608 , 0.30450982],\n",
       "          [0.29490194, 0.3354902 , 0.29784313],\n",
       "          [0.36862746, 0.4137255 , 0.33333334],\n",
       "          ...,\n",
       "          [0.4254902 , 0.4480392 , 0.4254902 ],\n",
       "          [0.42058942, 0.44411886, 0.3996084 ],\n",
       "          [0.3317651 , 0.35666707, 0.29862767]],\n",
       " \n",
       "         ...,\n",
       " \n",
       "         [[0.24313718, 0.31196082, 0.32196054],\n",
       "          [0.24999988, 0.3401962 , 0.38215685],\n",
       "          [0.2519606 , 0.35196072, 0.44019613],\n",
       "          ...,\n",
       "          [0.70784324, 0.7607841 , 0.75098026],\n",
       "          [0.7194119 , 0.77235276, 0.76215684],\n",
       "          [0.6888237 , 0.75745076, 0.75156856]],\n",
       " \n",
       "         [[0.24588221, 0.31921554, 0.33419606],\n",
       "          [0.2168626 , 0.32454896, 0.3970198 ],\n",
       "          [0.21254894, 0.33607835, 0.43999994],\n",
       "          ...,\n",
       "          [0.71725476, 0.7545097 , 0.7505881 ],\n",
       "          [0.70639205, 0.7640394 , 0.74482363],\n",
       "          [0.68584317, 0.76035297, 0.7446667 ]],\n",
       " \n",
       "         [[0.2068235 , 0.29372546, 0.3260393 ],\n",
       "          [0.17572545, 0.30082348, 0.38662753],\n",
       "          [0.2033333 , 0.32470584, 0.4252941 ],\n",
       "          ...,\n",
       "          [0.7254902 , 0.7486274 , 0.7484313 ],\n",
       "          [0.694549  , 0.73690194, 0.7216078 ],\n",
       "          [0.7036863 , 0.7503529 , 0.74172544]]],\n",
       " \n",
       " \n",
       "        [[[0.2564706 , 0.30156863, 0.2647059 ],\n",
       "          [0.24670587, 0.2984706 , 0.2647451 ],\n",
       "          [0.2819608 , 0.3390196 , 0.29607844],\n",
       "          ...,\n",
       "          [0.39372548, 0.41686276, 0.37705883],\n",
       "          [0.3461168 , 0.3865481 , 0.28847063],\n",
       "          [0.42639202, 0.43921554, 0.3883923 ]],\n",
       " \n",
       "         [[0.24784313, 0.29145098, 0.2635686 ],\n",
       "          [0.23262745, 0.2922745 , 0.26768628],\n",
       "          [0.2427451 , 0.29490194, 0.27588233],\n",
       "          ...,\n",
       "          [0.49882355, 0.5254902 , 0.4598039 ],\n",
       "          [0.3020785 , 0.31290197, 0.27188262],\n",
       "          [0.39635336, 0.42968673, 0.33839267]],\n",
       " \n",
       "         [[0.31176472, 0.3254902 , 0.2764706 ],\n",
       "          [0.31960785, 0.3309804 , 0.28313723],\n",
       "          [0.3872549 , 0.41568628, 0.35882354],\n",
       "          ...,\n",
       "          [0.40686274, 0.44215685, 0.36372548],\n",
       "          [0.39666748, 0.44333425, 0.38451025],\n",
       "          [0.31353006, 0.36058888, 0.3270594 ]],\n",
       " \n",
       "         ...,\n",
       " \n",
       "         [[0.25470534, 0.30392122, 0.29764694],\n",
       "          [0.26078397, 0.3284315 , 0.35058844],\n",
       "          [0.2431369 , 0.3480389 , 0.4225487 ],\n",
       "          ...,\n",
       "          [0.6852943 , 0.7480394 , 0.73627466],\n",
       "          [0.6841183 , 0.7527454 , 0.7429413 ],\n",
       "          [0.6968628 , 0.75568634, 0.74392164]],\n",
       " \n",
       "         [[0.22870605, 0.29694137, 0.29776502],\n",
       "          [0.22768608, 0.334745  , 0.37294117],\n",
       "          [0.2217646 , 0.3315685 , 0.40411752],\n",
       "          ...,\n",
       "          [0.68843126, 0.7472548 , 0.7315685 ],\n",
       "          [0.6860001 , 0.7487452 , 0.74482363],\n",
       "          [0.6584317 , 0.7329415 , 0.7250984 ]],\n",
       " \n",
       "         [[0.2350196 , 0.29960784, 0.33035296],\n",
       "          [0.17376457, 0.3039607 , 0.37141174],\n",
       "          [0.18999986, 0.31627443, 0.40764704],\n",
       "          ...,\n",
       "          [0.67039216, 0.72294116, 0.7049019 ],\n",
       "          [0.6883138 , 0.75066674, 0.73811764],\n",
       "          [0.68819606, 0.75054896, 0.74584305]]],\n",
       " \n",
       " \n",
       "        ...,\n",
       " \n",
       " \n",
       "        [[[0.        , 0.        , 0.        ],\n",
       "          [0.        , 0.        , 0.        ],\n",
       "          [0.        , 0.        , 0.        ],\n",
       "          ...,\n",
       "          [0.        , 0.        , 0.        ],\n",
       "          [0.        , 0.        , 0.        ],\n",
       "          [0.        , 0.        , 0.        ]],\n",
       " \n",
       "         [[0.        , 0.        , 0.        ],\n",
       "          [0.        , 0.        , 0.        ],\n",
       "          [0.        , 0.        , 0.        ],\n",
       "          ...,\n",
       "          [0.        , 0.        , 0.        ],\n",
       "          [0.        , 0.        , 0.        ],\n",
       "          [0.        , 0.        , 0.        ]],\n",
       " \n",
       "         [[0.        , 0.        , 0.        ],\n",
       "          [0.        , 0.        , 0.        ],\n",
       "          [0.        , 0.        , 0.        ],\n",
       "          ...,\n",
       "          [0.        , 0.        , 0.        ],\n",
       "          [0.        , 0.        , 0.        ],\n",
       "          [0.        , 0.        , 0.        ]],\n",
       " \n",
       "         ...,\n",
       " \n",
       "         [[0.610049  , 0.02990196, 0.04436275],\n",
       "          [0.59093136, 0.04558824, 0.05882353],\n",
       "          [0.57916665, 0.05710784, 0.0754902 ],\n",
       "          ...,\n",
       "          [0.36078432, 0.36078432, 0.26078433],\n",
       "          [0.33039215, 0.34607843, 0.25392157],\n",
       "          [0.31004903, 0.34142157, 0.24730392]],\n",
       " \n",
       "         [[0.64387256, 0.02745098, 0.05490196],\n",
       "          [0.63235295, 0.03676471, 0.05588235],\n",
       "          [0.63553923, 0.01887255, 0.04828431],\n",
       "          ...,\n",
       "          [0.35637254, 0.35637254, 0.25637254],\n",
       "          [0.33333334, 0.34901962, 0.25686276],\n",
       "          [0.32843137, 0.35980392, 0.26568627]],\n",
       " \n",
       "         [[0.6605392 , 0.02916667, 0.05269608],\n",
       "          [0.65      , 0.02156863, 0.05294118],\n",
       "          [0.6671569 , 0.03578432, 0.06078431],\n",
       "          ...,\n",
       "          [0.35196078, 0.35196078, 0.25196078],\n",
       "          [0.33406863, 0.3497549 , 0.25759804],\n",
       "          [0.34901962, 0.38039216, 0.28627452]]],\n",
       " \n",
       " \n",
       "        [[[0.27054903, 0.29239213, 0.28729412],\n",
       "          [0.25341177, 0.29615688, 0.2824314 ],\n",
       "          [0.29      , 0.32666668, 0.31666666],\n",
       "          ...,\n",
       "          [0.33686274, 0.35803923, 0.3609804 ],\n",
       "          [0.38835204, 0.40192035, 0.35580313],\n",
       "          [0.4160389 , 0.4323917 , 0.3994507 ]],\n",
       " \n",
       "         [[0.25486273, 0.30074507, 0.28819606],\n",
       "          [0.23921569, 0.28509802, 0.26494116],\n",
       "          [0.23686275, 0.2827451 , 0.24843138],\n",
       "          ...,\n",
       "          [0.4670588 , 0.50039214, 0.43333334],\n",
       "          [0.31152958, 0.3240392 , 0.28337327],\n",
       "          [0.44137302, 0.45470634, 0.39988282]],\n",
       " \n",
       "         [[0.30862743, 0.32823527, 0.30274507],\n",
       "          [0.30803922, 0.33764705, 0.29588234],\n",
       "          [0.37941176, 0.3970588 , 0.3617647 ],\n",
       "          ...,\n",
       "          [0.45588234, 0.46764705, 0.4137255 ],\n",
       "          [0.4190207 , 0.41843262, 0.40058905],\n",
       "          [0.33549073, 0.37843186, 0.33000046]],\n",
       " \n",
       "         ...,\n",
       " \n",
       "         [[0.23254909, 0.29294124, 0.29294124],\n",
       "          [0.23666678, 0.32999998, 0.37745145],\n",
       "          [0.2303921 , 0.35098028, 0.43529424],\n",
       "          ...,\n",
       "          [0.69803923, 0.75098   , 0.7392153 ],\n",
       "          [0.6972553 , 0.74313736, 0.7311764 ],\n",
       "          [0.6960788 , 0.7490196 , 0.73137265]],\n",
       " \n",
       "         [[0.263098  , 0.30505878, 0.31007844],\n",
       "          [0.21803908, 0.31878412, 0.38992158],\n",
       "          [0.2158826 , 0.33000004, 0.43313736],\n",
       "          ...,\n",
       "          [0.70450985, 0.74960786, 0.73784316],\n",
       "          [0.716588  , 0.7522742 , 0.74835265],\n",
       "          [0.69407815, 0.747137  , 0.7372939 ]],\n",
       " \n",
       "         [[0.22223525, 0.30847058, 0.33803922],\n",
       "          [0.18074508, 0.30270588, 0.38152945],\n",
       "          [0.20882347, 0.32450974, 0.4086274 ],\n",
       "          ...,\n",
       "          [0.6960784 , 0.7190196 , 0.71098036],\n",
       "          [0.69141155, 0.7344704 , 0.718745  ],\n",
       "          [0.6894118 , 0.7470588 , 0.73490196]]],\n",
       " \n",
       " \n",
       "        [[[0.27921566, 0.32286274, 0.31933334],\n",
       "          [0.30976468, 0.3352549 , 0.3289804 ],\n",
       "          [0.3464706 , 0.3682353 , 0.34431374],\n",
       "          ...,\n",
       "          [0.4054902 , 0.43254903, 0.38568628],\n",
       "          [0.41788134, 0.46207744, 0.39294   ],\n",
       "          [0.4685483 , 0.48486215, 0.47274446]],\n",
       " \n",
       "         [[0.2941961 , 0.3267843 , 0.3130196 ],\n",
       "          [0.27262744, 0.3195686 , 0.29878432],\n",
       "          [0.25705883, 0.31607842, 0.29568627],\n",
       "          ...,\n",
       "          [0.50980395, 0.52901965, 0.46313727],\n",
       "          [0.32545176, 0.34051034, 0.26196203],\n",
       "          [0.47909868, 0.5135692 , 0.3974909 ]],\n",
       " \n",
       "         [[0.34882352, 0.35490197, 0.32607844],\n",
       "          [0.34941176, 0.3590196 , 0.32078433],\n",
       "          [0.45      , 0.4627451 , 0.40686274],\n",
       "          ...,\n",
       "          [0.4970588 , 0.5117647 , 0.40588236],\n",
       "          [0.4409814 , 0.4515699 , 0.37627503],\n",
       "          [0.36607894, 0.4117652 , 0.33882362]],\n",
       " \n",
       "         ...,\n",
       " \n",
       "         [[0.27627385, 0.33549   , 0.34647027],\n",
       "          [0.27921543, 0.36137256, 0.4054902 ],\n",
       "          [0.29117653, 0.39607856, 0.46274522],\n",
       "          ...,\n",
       "          [0.67058814, 0.67450947, 0.67058814],\n",
       "          [0.64372534, 0.64372534, 0.6433333 ],\n",
       "          [0.69490176, 0.70470536, 0.70666647]],\n",
       " \n",
       "         [[0.257255  , 0.34701964, 0.36552954],\n",
       "          [0.25137255, 0.35972542, 0.41921583],\n",
       "          [0.2647059 , 0.3745098 , 0.46196085],\n",
       "          ...,\n",
       "          [0.65470564, 0.65470564, 0.6586272 ],\n",
       "          [0.6141173 , 0.6141173 , 0.6149014 ],\n",
       "          [0.68941134, 0.6933329 , 0.70117605]],\n",
       " \n",
       "         [[0.26615694, 0.32756865, 0.3559608 ],\n",
       "          [0.2388235 , 0.34113723, 0.40780386],\n",
       "          [0.24470586, 0.35450977, 0.4403921 ],\n",
       "          ...,\n",
       "          [0.6337254 , 0.6380392 , 0.6319607 ],\n",
       "          [0.57133305, 0.57203895, 0.5709017 ],\n",
       "          [0.641451  , 0.6532157 , 0.67282355]]]], dtype=float32),\n",
       " array([1., 1., 1., 1., 1., 0., 1., 1., 1., 0., 1., 0., 0., 0., 1., 1.],\n",
       "       dtype=float32))"
      ]
     },
     "execution_count": 32,
     "metadata": {},
     "output_type": "execute_result"
    }
   ],
   "source": [
    "test_batch = train_data.as_numpy_iterator()\n",
    "batch1 = test_batch.next()\n",
    "batch1"
   ]
  },
  {
   "cell_type": "code",
   "execution_count": 34,
   "id": "417b4f91-e706-4dd8-b1c0-be6883ac3bc0",
   "metadata": {},
   "outputs": [],
   "source": [
    "@tf.function\n",
    "def train_step(batch):\n",
    "    \n",
    "    #Record All operations\n",
    "    with tf.GradientTape() as tape:\n",
    "        #Get anchor and positive/negative image\n",
    "        X = batch[:2]\n",
    "        #Get Label\n",
    "        y = batch[2]\n",
    "        \n",
    "        #Forward Pass\n",
    "        yhat = siamese_model(X, training = True)\n",
    "        #Calculate Loss\n",
    "        loss = binary_cross_loss(y, yhat)\n",
    "        \n",
    "    #Calculate Gradients\n",
    "    grad = tape.gradient(loss, siamese_model.trainable_variables)\n",
    "    \n",
    "    #Calculate Updated Weights and Apply to Siamese Model\n",
    "    opt.apply_gradients(zip(grad, siamese_model.trainable_variables))\n",
    "    \n",
    "    #Return Loss\n",
    "    return loss"
   ]
  },
  {
   "cell_type": "markdown",
   "id": "7fe32864-f140-40c7-b1d3-bc19e3768c4a",
   "metadata": {},
   "source": [
    "<h3>5.4 Build Training Loop"
   ]
  },
  {
   "cell_type": "code",
   "execution_count": 35,
   "id": "0a2be0d3-170b-4e64-bb73-aedc65b6469c",
   "metadata": {},
   "outputs": [],
   "source": [
    "def train(data, EPOCHS):\n",
    "    \n",
    "    #Loop through EPOCHS\n",
    "    for epoch in range(1, EPOCHS+1):\n",
    "        print('\\n Epoch {}/{}'.format(epoch, EPOCHS))\n",
    "        progbar = tf.keras.utils.Progbar(len(data))\n",
    "        \n",
    "        #Loop through each Batch\n",
    "        for idx, batch in enumerate(data):\n",
    "            #Run Train Step here\n",
    "            train_step(batch)\n",
    "            progbar.update(idx+1)\n",
    "        \n",
    "        #Save Checkpoints\n",
    "        if epoch % 10 == 0:\n",
    "            checkpoint.save(file_prefix=checkpoint_prefix)"
   ]
  },
  {
   "cell_type": "markdown",
   "id": "5de1e639-9bf1-44e4-9926-f499731a4d1a",
   "metadata": {},
   "source": [
    "<h3>5.5 Train the Model"
   ]
  },
  {
   "cell_type": "code",
   "execution_count": 37,
   "id": "55458957-65e6-4bbf-b77e-0ce15be65a33",
   "metadata": {},
   "outputs": [],
   "source": [
    "EPOCHS = 50"
   ]
  },
  {
   "cell_type": "code",
   "execution_count": 38,
   "id": "13ba90b3-783c-4ce3-916f-08969a9ce6df",
   "metadata": {},
   "outputs": [
    {
     "name": "stdout",
     "output_type": "stream",
     "text": [
      "\n",
      " Epoch 1/50\n",
      "27/27 [==============================] - 849s 32s/step\n",
      "\n",
      " Epoch 2/50\n",
      "27/27 [==============================] - 855s 32s/step\n",
      "\n",
      " Epoch 3/50\n",
      "27/27 [==============================] - 761s 28s/step\n",
      "\n",
      " Epoch 4/50\n",
      "27/27 [==============================] - 780s 29s/step\n",
      "\n",
      " Epoch 5/50\n",
      "27/27 [==============================] - 817s 30s/step\n",
      "\n",
      " Epoch 6/50\n",
      "27/27 [==============================] - 791s 29s/step\n",
      "\n",
      " Epoch 7/50\n",
      "27/27 [==============================] - 768s 28s/step\n",
      "\n",
      " Epoch 8/50\n",
      "27/27 [==============================] - 764s 28s/step\n",
      "\n",
      " Epoch 9/50\n",
      "27/27 [==============================] - 779s 29s/step\n",
      "\n",
      " Epoch 10/50\n",
      "27/27 [==============================] - 801s 30s/step\n",
      "\n",
      " Epoch 11/50\n",
      "27/27 [==============================] - 811s 30s/step\n",
      "\n",
      " Epoch 12/50\n",
      "27/27 [==============================] - 794s 29s/step\n",
      "\n",
      " Epoch 13/50\n",
      "27/27 [==============================] - 796s 29s/step\n",
      "\n",
      " Epoch 14/50\n",
      "27/27 [==============================] - 871s 32s/step\n",
      "\n",
      " Epoch 15/50\n",
      "27/27 [==============================] - 765s 28s/step\n",
      "\n",
      " Epoch 16/50\n",
      "27/27 [==============================] - 826s 31s/step\n",
      "\n",
      " Epoch 17/50\n",
      "27/27 [==============================] - 874s 32s/step\n",
      "\n",
      " Epoch 18/50\n",
      "27/27 [==============================] - 831s 30s/step\n",
      "\n",
      " Epoch 19/50\n",
      "27/27 [==============================] - 835s 31s/step\n",
      "\n",
      " Epoch 20/50\n",
      "27/27 [==============================] - 811s 30s/step\n"
     ]
    },
    {
     "ename": "UnknownError",
     "evalue": "Failed to WriteFile: ./training_checkpoints\\ckpt-2_temp/part-00000-of-00001.data-00000-of-00001.tempstate390765097329328505 : There is not enough space on the disk.\r\n; operation in progress [Op:SaveV2]",
     "output_type": "error",
     "traceback": [
      "\u001b[1;31m---------------------------------------------------------------------------\u001b[0m",
      "\u001b[1;31mUnknownError\u001b[0m                              Traceback (most recent call last)",
      "\u001b[1;32m<ipython-input-38-3a6c1daed93b>\u001b[0m in \u001b[0;36m<module>\u001b[1;34m\u001b[0m\n\u001b[1;32m----> 1\u001b[1;33m \u001b[0mtrain\u001b[0m\u001b[1;33m(\u001b[0m\u001b[0mtrain_data\u001b[0m\u001b[1;33m,\u001b[0m \u001b[0mEPOCHS\u001b[0m\u001b[1;33m)\u001b[0m\u001b[1;33m\u001b[0m\u001b[1;33m\u001b[0m\u001b[0m\n\u001b[0m",
      "\u001b[1;32m<ipython-input-35-4183f72f1f36>\u001b[0m in \u001b[0;36mtrain\u001b[1;34m(data, EPOCHS)\u001b[0m\n\u001b[0;32m     14\u001b[0m         \u001b[1;31m#Save Checkpoints\u001b[0m\u001b[1;33m\u001b[0m\u001b[1;33m\u001b[0m\u001b[1;33m\u001b[0m\u001b[0m\n\u001b[0;32m     15\u001b[0m         \u001b[1;32mif\u001b[0m \u001b[0mepoch\u001b[0m \u001b[1;33m%\u001b[0m \u001b[1;36m10\u001b[0m \u001b[1;33m==\u001b[0m \u001b[1;36m0\u001b[0m\u001b[1;33m:\u001b[0m\u001b[1;33m\u001b[0m\u001b[1;33m\u001b[0m\u001b[0m\n\u001b[1;32m---> 16\u001b[1;33m             \u001b[0mcheckpoint\u001b[0m\u001b[1;33m.\u001b[0m\u001b[0msave\u001b[0m\u001b[1;33m(\u001b[0m\u001b[0mfile_prefix\u001b[0m\u001b[1;33m=\u001b[0m\u001b[0mcheckpoint_prefix\u001b[0m\u001b[1;33m)\u001b[0m\u001b[1;33m\u001b[0m\u001b[1;33m\u001b[0m\u001b[0m\n\u001b[0m",
      "\u001b[1;32m~\\anaconda3\\envs\\openvino_env\\lib\\site-packages\\tensorflow\\python\\training\\tracking\\util.py\u001b[0m in \u001b[0;36msave\u001b[1;34m(self, file_prefix, options)\u001b[0m\n\u001b[0;32m   2350\u001b[0m       \u001b[0mcheckpoint_number\u001b[0m \u001b[1;33m=\u001b[0m \u001b[0massign_op\u001b[0m\u001b[1;33m.\u001b[0m\u001b[0mnumpy\u001b[0m\u001b[1;33m(\u001b[0m\u001b[1;33m)\u001b[0m\u001b[1;33m\u001b[0m\u001b[1;33m\u001b[0m\u001b[0m\n\u001b[0;32m   2351\u001b[0m \u001b[1;33m\u001b[0m\u001b[0m\n\u001b[1;32m-> 2352\u001b[1;33m     file_path = self._write(\n\u001b[0m\u001b[0;32m   2353\u001b[0m         \u001b[1;34m\"%s-%d\"\u001b[0m \u001b[1;33m%\u001b[0m \u001b[1;33m(\u001b[0m\u001b[0mfile_prefix\u001b[0m\u001b[1;33m,\u001b[0m \u001b[0mcheckpoint_number\u001b[0m\u001b[1;33m)\u001b[0m\u001b[1;33m,\u001b[0m\u001b[1;33m\u001b[0m\u001b[1;33m\u001b[0m\u001b[0m\n\u001b[0;32m   2354\u001b[0m         \u001b[0moptions\u001b[0m\u001b[1;33m=\u001b[0m\u001b[0moptions\u001b[0m\u001b[1;33m,\u001b[0m\u001b[1;33m\u001b[0m\u001b[1;33m\u001b[0m\u001b[0m\n",
      "\u001b[1;32m~\\anaconda3\\envs\\openvino_env\\lib\\site-packages\\tensorflow\\python\\training\\tracking\\util.py\u001b[0m in \u001b[0;36m_write\u001b[1;34m(self, file_prefix, options, update_ckpt_state)\u001b[0m\n\u001b[0;32m   2234\u001b[0m     \u001b[0mstart_time\u001b[0m \u001b[1;33m=\u001b[0m \u001b[0mtime\u001b[0m\u001b[1;33m.\u001b[0m\u001b[0mtime\u001b[0m\u001b[1;33m(\u001b[0m\u001b[1;33m)\u001b[0m\u001b[1;33m\u001b[0m\u001b[1;33m\u001b[0m\u001b[0m\n\u001b[0;32m   2235\u001b[0m     \u001b[0moptions\u001b[0m \u001b[1;33m=\u001b[0m \u001b[0moptions\u001b[0m \u001b[1;32mor\u001b[0m \u001b[0mcheckpoint_options\u001b[0m\u001b[1;33m.\u001b[0m\u001b[0mCheckpointOptions\u001b[0m\u001b[1;33m(\u001b[0m\u001b[1;33m)\u001b[0m\u001b[1;33m\u001b[0m\u001b[1;33m\u001b[0m\u001b[0m\n\u001b[1;32m-> 2236\u001b[1;33m     output = self._saver.save(\n\u001b[0m\u001b[0;32m   2237\u001b[0m         \u001b[0mfile_prefix\u001b[0m\u001b[1;33m=\u001b[0m\u001b[0mfile_prefix\u001b[0m\u001b[1;33m,\u001b[0m\u001b[1;33m\u001b[0m\u001b[1;33m\u001b[0m\u001b[0m\n\u001b[0;32m   2238\u001b[0m         \u001b[0moptions\u001b[0m\u001b[1;33m=\u001b[0m\u001b[0moptions\u001b[0m\u001b[1;33m,\u001b[0m\u001b[1;33m\u001b[0m\u001b[1;33m\u001b[0m\u001b[0m\n",
      "\u001b[1;32m~\\anaconda3\\envs\\openvino_env\\lib\\site-packages\\tensorflow\\python\\training\\tracking\\util.py\u001b[0m in \u001b[0;36msave\u001b[1;34m(self, file_prefix, checkpoint_number, session, options, update_ckpt_state)\u001b[0m\n\u001b[0;32m   1324\u001b[0m       \u001b[0mfile_io\u001b[0m\u001b[1;33m.\u001b[0m\u001b[0mrecursive_create_dir\u001b[0m\u001b[1;33m(\u001b[0m\u001b[0mos\u001b[0m\u001b[1;33m.\u001b[0m\u001b[0mpath\u001b[0m\u001b[1;33m.\u001b[0m\u001b[0mdirname\u001b[0m\u001b[1;33m(\u001b[0m\u001b[0mfile_prefix\u001b[0m\u001b[1;33m)\u001b[0m\u001b[1;33m)\u001b[0m\u001b[1;33m\u001b[0m\u001b[1;33m\u001b[0m\u001b[0m\n\u001b[0;32m   1325\u001b[0m \u001b[1;33m\u001b[0m\u001b[0m\n\u001b[1;32m-> 1326\u001b[1;33m     save_path, new_feed_additions = self._save_cached_when_graph_building(\n\u001b[0m\u001b[0;32m   1327\u001b[0m         file_prefix_tensor, object_graph_tensor, options, update_ckpt_state)\n\u001b[0;32m   1328\u001b[0m \u001b[1;33m\u001b[0m\u001b[0m\n",
      "\u001b[1;32m~\\anaconda3\\envs\\openvino_env\\lib\\site-packages\\tensorflow\\python\\training\\tracking\\util.py\u001b[0m in \u001b[0;36m_save_cached_when_graph_building\u001b[1;34m(self, file_prefix, object_graph_tensor, options, update_ckpt_state)\u001b[0m\n\u001b[0;32m   1269\u001b[0m \u001b[1;33m\u001b[0m\u001b[0m\n\u001b[0;32m   1270\u001b[0m     \u001b[1;31m# Execute the normal checkpoint, i.e., synchronous.\u001b[0m\u001b[1;33m\u001b[0m\u001b[1;33m\u001b[0m\u001b[1;33m\u001b[0m\u001b[0m\n\u001b[1;32m-> 1271\u001b[1;33m     \u001b[1;32mreturn\u001b[0m \u001b[0m_run_save\u001b[0m\u001b[1;33m(\u001b[0m\u001b[1;33m)\u001b[0m\u001b[1;33m\u001b[0m\u001b[1;33m\u001b[0m\u001b[0m\n\u001b[0m\u001b[0;32m   1272\u001b[0m \u001b[1;33m\u001b[0m\u001b[0m\n\u001b[0;32m   1273\u001b[0m   def save(self, file_prefix, checkpoint_number=None, session=None,\n",
      "\u001b[1;32m~\\anaconda3\\envs\\openvino_env\\lib\\site-packages\\tensorflow\\python\\training\\tracking\\util.py\u001b[0m in \u001b[0;36m_run_save\u001b[1;34m()\u001b[0m\n\u001b[0;32m   1215\u001b[0m         saver = functional_saver.MultiDeviceSaver(named_saveable_objects,\n\u001b[0;32m   1216\u001b[0m                                                   registered_savers)\n\u001b[1;32m-> 1217\u001b[1;33m         \u001b[0msave_op\u001b[0m \u001b[1;33m=\u001b[0m \u001b[0msaver\u001b[0m\u001b[1;33m.\u001b[0m\u001b[0msave\u001b[0m\u001b[1;33m(\u001b[0m\u001b[0mfile_prefix\u001b[0m\u001b[1;33m,\u001b[0m \u001b[0moptions\u001b[0m\u001b[1;33m=\u001b[0m\u001b[0moptions\u001b[0m\u001b[1;33m)\u001b[0m\u001b[1;33m\u001b[0m\u001b[1;33m\u001b[0m\u001b[0m\n\u001b[0m\u001b[0;32m   1218\u001b[0m         \u001b[1;32mwith\u001b[0m \u001b[0mops\u001b[0m\u001b[1;33m.\u001b[0m\u001b[0mdevice\u001b[0m\u001b[1;33m(\u001b[0m\u001b[1;34m\"/cpu:0\"\u001b[0m\u001b[1;33m)\u001b[0m\u001b[1;33m:\u001b[0m\u001b[1;33m\u001b[0m\u001b[1;33m\u001b[0m\u001b[0m\n\u001b[0;32m   1219\u001b[0m           \u001b[1;32mwith\u001b[0m \u001b[0mops\u001b[0m\u001b[1;33m.\u001b[0m\u001b[0mcontrol_dependencies\u001b[0m\u001b[1;33m(\u001b[0m\u001b[1;33m[\u001b[0m\u001b[0msave_op\u001b[0m\u001b[1;33m]\u001b[0m\u001b[1;33m)\u001b[0m\u001b[1;33m:\u001b[0m\u001b[1;33m\u001b[0m\u001b[1;33m\u001b[0m\u001b[0m\n",
      "\u001b[1;32m~\\anaconda3\\envs\\openvino_env\\lib\\site-packages\\tensorflow\\python\\training\\saving\\functional_saver.py\u001b[0m in \u001b[0;36msave\u001b[1;34m(self, file_prefix, options)\u001b[0m\n\u001b[0;32m    373\u001b[0m       \u001b[0mtf_function_save\u001b[0m\u001b[1;33m(\u001b[0m\u001b[1;33m)\u001b[0m\u001b[1;33m\u001b[0m\u001b[1;33m\u001b[0m\u001b[0m\n\u001b[0;32m    374\u001b[0m     \u001b[1;32melse\u001b[0m\u001b[1;33m:\u001b[0m\u001b[1;33m\u001b[0m\u001b[1;33m\u001b[0m\u001b[0m\n\u001b[1;32m--> 375\u001b[1;33m       \u001b[1;32mreturn\u001b[0m \u001b[0msave_fn\u001b[0m\u001b[1;33m(\u001b[0m\u001b[1;33m)\u001b[0m\u001b[1;33m\u001b[0m\u001b[1;33m\u001b[0m\u001b[0m\n\u001b[0m\u001b[0;32m    376\u001b[0m \u001b[1;33m\u001b[0m\u001b[0m\n\u001b[0;32m    377\u001b[0m   \u001b[1;32mdef\u001b[0m \u001b[0mrestore\u001b[0m\u001b[1;33m(\u001b[0m\u001b[0mself\u001b[0m\u001b[1;33m,\u001b[0m \u001b[0mfile_prefix\u001b[0m\u001b[1;33m,\u001b[0m \u001b[0moptions\u001b[0m\u001b[1;33m=\u001b[0m\u001b[1;32mNone\u001b[0m\u001b[1;33m)\u001b[0m\u001b[1;33m:\u001b[0m\u001b[1;33m\u001b[0m\u001b[1;33m\u001b[0m\u001b[0m\n",
      "\u001b[1;32m~\\anaconda3\\envs\\openvino_env\\lib\\site-packages\\tensorflow\\python\\training\\saving\\functional_saver.py\u001b[0m in \u001b[0;36msave_fn\u001b[1;34m()\u001b[0m\n\u001b[0;32m    347\u001b[0m           \u001b[1;31m# initial read operations should be placed on the SaveableObject's\u001b[0m\u001b[1;33m\u001b[0m\u001b[1;33m\u001b[0m\u001b[1;33m\u001b[0m\u001b[0m\n\u001b[0;32m    348\u001b[0m           \u001b[1;31m# device.\u001b[0m\u001b[1;33m\u001b[0m\u001b[1;33m\u001b[0m\u001b[1;33m\u001b[0m\u001b[0m\n\u001b[1;32m--> 349\u001b[1;33m           \u001b[0msharded_saves\u001b[0m\u001b[1;33m.\u001b[0m\u001b[0mappend\u001b[0m\u001b[1;33m(\u001b[0m\u001b[0msaver\u001b[0m\u001b[1;33m.\u001b[0m\u001b[0msave\u001b[0m\u001b[1;33m(\u001b[0m\u001b[0mshard_prefix\u001b[0m\u001b[1;33m,\u001b[0m \u001b[0moptions\u001b[0m\u001b[1;33m)\u001b[0m\u001b[1;33m)\u001b[0m\u001b[1;33m\u001b[0m\u001b[1;33m\u001b[0m\u001b[0m\n\u001b[0m\u001b[0;32m    350\u001b[0m \u001b[1;33m\u001b[0m\u001b[0m\n\u001b[0;32m    351\u001b[0m       \u001b[1;32mwith\u001b[0m \u001b[0mops\u001b[0m\u001b[1;33m.\u001b[0m\u001b[0mcontrol_dependencies\u001b[0m\u001b[1;33m(\u001b[0m\u001b[0msharded_saves\u001b[0m\u001b[1;33m)\u001b[0m\u001b[1;33m:\u001b[0m\u001b[1;33m\u001b[0m\u001b[1;33m\u001b[0m\u001b[0m\n",
      "\u001b[1;32m~\\anaconda3\\envs\\openvino_env\\lib\\site-packages\\tensorflow\\python\\training\\saving\\functional_saver.py\u001b[0m in \u001b[0;36msave\u001b[1;34m(self, file_prefix, options)\u001b[0m\n\u001b[0;32m     78\u001b[0m     \u001b[0msave_device\u001b[0m \u001b[1;33m=\u001b[0m \u001b[0moptions\u001b[0m\u001b[1;33m.\u001b[0m\u001b[0mexperimental_io_device\u001b[0m \u001b[1;32mor\u001b[0m \u001b[1;34m\"cpu:0\"\u001b[0m\u001b[1;33m\u001b[0m\u001b[1;33m\u001b[0m\u001b[0m\n\u001b[0;32m     79\u001b[0m     \u001b[1;32mwith\u001b[0m \u001b[0mops\u001b[0m\u001b[1;33m.\u001b[0m\u001b[0mdevice\u001b[0m\u001b[1;33m(\u001b[0m\u001b[0msave_device\u001b[0m\u001b[1;33m)\u001b[0m\u001b[1;33m:\u001b[0m\u001b[1;33m\u001b[0m\u001b[1;33m\u001b[0m\u001b[0m\n\u001b[1;32m---> 80\u001b[1;33m       \u001b[1;32mreturn\u001b[0m \u001b[0mio_ops\u001b[0m\u001b[1;33m.\u001b[0m\u001b[0msave_v2\u001b[0m\u001b[1;33m(\u001b[0m\u001b[0mfile_prefix\u001b[0m\u001b[1;33m,\u001b[0m \u001b[0mtensor_names\u001b[0m\u001b[1;33m,\u001b[0m \u001b[0mtensor_slices\u001b[0m\u001b[1;33m,\u001b[0m \u001b[0mtensors\u001b[0m\u001b[1;33m)\u001b[0m\u001b[1;33m\u001b[0m\u001b[1;33m\u001b[0m\u001b[0m\n\u001b[0m\u001b[0;32m     81\u001b[0m \u001b[1;33m\u001b[0m\u001b[0m\n\u001b[0;32m     82\u001b[0m   \u001b[1;32mdef\u001b[0m \u001b[0mrestore\u001b[0m\u001b[1;33m(\u001b[0m\u001b[0mself\u001b[0m\u001b[1;33m,\u001b[0m \u001b[0mfile_prefix\u001b[0m\u001b[1;33m,\u001b[0m \u001b[0moptions\u001b[0m\u001b[1;33m=\u001b[0m\u001b[1;32mNone\u001b[0m\u001b[1;33m)\u001b[0m\u001b[1;33m:\u001b[0m\u001b[1;33m\u001b[0m\u001b[1;33m\u001b[0m\u001b[0m\n",
      "\u001b[1;32m~\\anaconda3\\envs\\openvino_env\\lib\\site-packages\\tensorflow\\python\\ops\\gen_io_ops.py\u001b[0m in \u001b[0;36msave_v2\u001b[1;34m(prefix, tensor_names, shape_and_slices, tensors, name)\u001b[0m\n\u001b[0;32m   1704\u001b[0m       \u001b[1;32mpass\u001b[0m\u001b[1;33m\u001b[0m\u001b[1;33m\u001b[0m\u001b[0m\n\u001b[0;32m   1705\u001b[0m     \u001b[1;32mtry\u001b[0m\u001b[1;33m:\u001b[0m\u001b[1;33m\u001b[0m\u001b[1;33m\u001b[0m\u001b[0m\n\u001b[1;32m-> 1706\u001b[1;33m       return save_v2_eager_fallback(\n\u001b[0m\u001b[0;32m   1707\u001b[0m           \u001b[0mprefix\u001b[0m\u001b[1;33m,\u001b[0m \u001b[0mtensor_names\u001b[0m\u001b[1;33m,\u001b[0m \u001b[0mshape_and_slices\u001b[0m\u001b[1;33m,\u001b[0m \u001b[0mtensors\u001b[0m\u001b[1;33m,\u001b[0m \u001b[0mname\u001b[0m\u001b[1;33m=\u001b[0m\u001b[0mname\u001b[0m\u001b[1;33m,\u001b[0m\u001b[1;33m\u001b[0m\u001b[1;33m\u001b[0m\u001b[0m\n\u001b[0;32m   1708\u001b[0m           ctx=_ctx)\n",
      "\u001b[1;32m~\\anaconda3\\envs\\openvino_env\\lib\\site-packages\\tensorflow\\python\\ops\\gen_io_ops.py\u001b[0m in \u001b[0;36msave_v2_eager_fallback\u001b[1;34m(prefix, tensor_names, shape_and_slices, tensors, name, ctx)\u001b[0m\n\u001b[0;32m   1725\u001b[0m   \u001b[0m_inputs_flat\u001b[0m \u001b[1;33m=\u001b[0m \u001b[1;33m[\u001b[0m\u001b[0mprefix\u001b[0m\u001b[1;33m,\u001b[0m \u001b[0mtensor_names\u001b[0m\u001b[1;33m,\u001b[0m \u001b[0mshape_and_slices\u001b[0m\u001b[1;33m]\u001b[0m \u001b[1;33m+\u001b[0m \u001b[0mlist\u001b[0m\u001b[1;33m(\u001b[0m\u001b[0mtensors\u001b[0m\u001b[1;33m)\u001b[0m\u001b[1;33m\u001b[0m\u001b[1;33m\u001b[0m\u001b[0m\n\u001b[0;32m   1726\u001b[0m   \u001b[0m_attrs\u001b[0m \u001b[1;33m=\u001b[0m \u001b[1;33m(\u001b[0m\u001b[1;34m\"dtypes\"\u001b[0m\u001b[1;33m,\u001b[0m \u001b[0m_attr_dtypes\u001b[0m\u001b[1;33m)\u001b[0m\u001b[1;33m\u001b[0m\u001b[1;33m\u001b[0m\u001b[0m\n\u001b[1;32m-> 1727\u001b[1;33m   _result = _execute.execute(b\"SaveV2\", 0, inputs=_inputs_flat, attrs=_attrs,\n\u001b[0m\u001b[0;32m   1728\u001b[0m                              ctx=ctx, name=name)\n\u001b[0;32m   1729\u001b[0m   \u001b[0m_result\u001b[0m \u001b[1;33m=\u001b[0m \u001b[1;32mNone\u001b[0m\u001b[1;33m\u001b[0m\u001b[1;33m\u001b[0m\u001b[0m\n",
      "\u001b[1;32m~\\anaconda3\\envs\\openvino_env\\lib\\site-packages\\tensorflow\\python\\eager\\execute.py\u001b[0m in \u001b[0;36mquick_execute\u001b[1;34m(op_name, num_outputs, inputs, attrs, ctx, name)\u001b[0m\n\u001b[0;32m     52\u001b[0m   \u001b[1;32mtry\u001b[0m\u001b[1;33m:\u001b[0m\u001b[1;33m\u001b[0m\u001b[1;33m\u001b[0m\u001b[0m\n\u001b[0;32m     53\u001b[0m     \u001b[0mctx\u001b[0m\u001b[1;33m.\u001b[0m\u001b[0mensure_initialized\u001b[0m\u001b[1;33m(\u001b[0m\u001b[1;33m)\u001b[0m\u001b[1;33m\u001b[0m\u001b[1;33m\u001b[0m\u001b[0m\n\u001b[1;32m---> 54\u001b[1;33m     tensors = pywrap_tfe.TFE_Py_Execute(ctx._handle, device_name, op_name,\n\u001b[0m\u001b[0;32m     55\u001b[0m                                         inputs, attrs, num_outputs)\n\u001b[0;32m     56\u001b[0m   \u001b[1;32mexcept\u001b[0m \u001b[0mcore\u001b[0m\u001b[1;33m.\u001b[0m\u001b[0m_NotOkStatusException\u001b[0m \u001b[1;32mas\u001b[0m \u001b[0me\u001b[0m\u001b[1;33m:\u001b[0m\u001b[1;33m\u001b[0m\u001b[1;33m\u001b[0m\u001b[0m\n",
      "\u001b[1;31mUnknownError\u001b[0m: Failed to WriteFile: ./training_checkpoints\\ckpt-2_temp/part-00000-of-00001.data-00000-of-00001.tempstate390765097329328505 : There is not enough space on the disk.\r\n; operation in progress [Op:SaveV2]"
     ]
    }
   ],
   "source": [
    "train(train_data, EPOCHS)"
   ]
  },
  {
   "cell_type": "markdown",
   "id": "cf8416da-7912-4822-916c-9287db7f6e32",
   "metadata": {},
   "source": [
    "<h1>6 Evaluate Model"
   ]
  },
  {
   "cell_type": "markdown",
   "id": "a27fdd7f-fdf1-46f5-80db-5aac5e36bd75",
   "metadata": {},
   "source": [
    "<h3>6.1 Import Metrics"
   ]
  },
  {
   "cell_type": "code",
   "execution_count": null,
   "id": "0061024f-7c13-4cf5-b1c4-11c511c9710b",
   "metadata": {},
   "outputs": [],
   "source": [
    "#Import metric calculations\n",
    "from tensorflow.keras.metrics import Precision, Recall"
   ]
  },
  {
   "cell_type": "markdown",
   "id": "7f7b3d37-d434-48b4-8a01-f8dc24424e18",
   "metadata": {},
   "source": [
    "<h3>6.2 Make Predictions"
   ]
  },
  {
   "cell_type": "code",
   "execution_count": null,
   "id": "2e406caa-cb14-4b0a-b9c3-e28e0bad7a48",
   "metadata": {
    "tags": []
   },
   "outputs": [],
   "source": [
    "#Get a Batch of Test Data\n",
    "test_input, test_val, y_true = test_data.as_numpy_iterator().next()"
   ]
  },
  {
   "cell_type": "code",
   "execution_count": null,
   "id": "993f4345-3b1e-4016-b83f-da7bdd0f0474",
   "metadata": {},
   "outputs": [],
   "source": [
    "#Make Predictions\n",
    "y_hat = siamese_model.predict([test_input, test_val])\n",
    "y_hat"
   ]
  },
  {
   "cell_type": "code",
   "execution_count": null,
   "id": "1d4eeeb3-77ce-496b-b5be-2d317926a96d",
   "metadata": {},
   "outputs": [],
   "source": [
    "#Post Processing the results\n",
    "[1 if prediction > 0.5 else 0 for prediction in y_hat]"
   ]
  },
  {
   "cell_type": "code",
   "execution_count": null,
   "id": "76e70219-d390-4bd6-ae52-c5a2f4338622",
   "metadata": {},
   "outputs": [],
   "source": [
    "y_true"
   ]
  },
  {
   "cell_type": "markdown",
   "id": "736e9a91-7ea9-4a42-acab-2b444031cb4a",
   "metadata": {},
   "source": [
    "<h3>6.3 Calculate Metrics"
   ]
  },
  {
   "cell_type": "markdown",
   "id": "1c04567f-466e-4924-8330-10b07ca87488",
   "metadata": {},
   "source": [
    "#Creating a Metric Object\n",
    "m = Recall()\n",
    "\n",
    "#Calculating the Recall Value\n",
    "m.update_state(y_true, y_hat)\n",
    "\n",
    "#Return Recall Result\n",
    "m.result.numpy()"
   ]
  },
  {
   "cell_type": "code",
   "execution_count": null,
   "id": "a6ed36e5-019a-4819-9af7-ab871a62ad17",
   "metadata": {},
   "outputs": [],
   "source": [
    "#Creating a Metric Object\n",
    "m = Precision()\n",
    "\n",
    "#Calculating the Recall Value\n",
    "m.update_state(y_true, y_hat)\n",
    "\n",
    "#Return Recall Result\n",
    "m.result.numpy()"
   ]
  },
  {
   "cell_type": "markdown",
   "id": "b02663ee-6bcc-4d63-8710-69facf8121d3",
   "metadata": {},
   "source": [
    "<h3>6.4 Visualise Results"
   ]
  },
  {
   "cell_type": "code",
   "execution_count": null,
   "id": "265201bb-a0c7-4ab8-8dbc-9eae77b7683c",
   "metadata": {},
   "outputs": [],
   "source": [
    "#Set Plot Size\n",
    "plt.figure(figsize = (18,8))\n",
    "\n",
    "#Set First Subplot\n",
    "plt.subplot(1,2,1)\n",
    "plt.imshow(test_input[0])\n",
    "\n",
    "#Set Second Subplot\n",
    "plt.subplot(1,2,2)\n",
    "plt.imshow(test_val[0])\n",
    "\n",
    "#Renders Cleanly\n",
    "plt.show()"
   ]
  },
  {
   "cell_type": "markdown",
   "id": "280b7cde-8352-4963-a88e-7102755b56e5",
   "metadata": {},
   "source": [
    "<h1>7 Evaluate Model"
   ]
  },
  {
   "cell_type": "code",
   "execution_count": null,
   "id": "3f8c66e4-ebc8-475c-b24e-8c9481ec78e8",
   "metadata": {},
   "outputs": [],
   "source": [
    "#Save Weights\n",
    "siamese_model.save('siamesemodel.h5')"
   ]
  },
  {
   "cell_type": "code",
   "execution_count": null,
   "id": "9407a67f-7e2b-4490-a347-653e2ce6ff17",
   "metadata": {},
   "outputs": [],
   "source": [
    "#Reload Model\n",
    "model = tf.keras.models.load_model('siamesemodel.h5', \n",
    "                                   custom_objects = {'L1Dist':L1Dist, 'BinaryCrossentropy':tf.losses.BinaryCrossentropy})"
   ]
  },
  {
   "cell_type": "code",
   "execution_count": null,
   "id": "8d356cb8-377b-41ee-9f74-b944a4e6acd4",
   "metadata": {},
   "outputs": [],
   "source": [
    "#Make Predictions with Reloaded Model\n",
    "model.predict([test_input, test_val])\n",
    "\n",
    "#Model Summary\n",
    "modelimshowmary()"
   ]
  },
  {
   "cell_type": "code",
   "execution_count": null,
   "id": "d18e1840-15da-464d-baa1-847c67fcf424",
   "metadata": {},
   "outputs": [],
   "source": []
  },
  {
   "cell_type": "code",
   "execution_count": null,
   "id": "e9ac1cd0-2969-42b5-a404-cf4861aef006",
   "metadata": {},
   "outputs": [],
   "source": []
  },
  {
   "cell_type": "code",
   "execution_count": null,
   "id": "cbaa171f-a6ed-4b47-99e1-eb38b588cdfd",
   "metadata": {},
   "outputs": [],
   "source": []
  },
  {
   "cell_type": "code",
   "execution_count": null,
   "id": "cbf96b97-64a5-4cdd-90ec-c566e1d49369",
   "metadata": {},
   "outputs": [],
   "source": []
  },
  {
   "cell_type": "code",
   "execution_count": null,
   "id": "d9fc3e9b-fa49-47c2-bcef-650c712dc226",
   "metadata": {},
   "outputs": [],
   "source": []
  }
 ],
 "metadata": {
  "kernelspec": {
   "display_name": "Python 3 (ipykernel)",
   "language": "python",
   "name": "python3"
  },
  "language_info": {
   "codemirror_mode": {
    "name": "ipython",
    "version": 3
   },
   "file_extension": ".py",
   "mimetype": "text/x-python",
   "name": "python",
   "nbconvert_exporter": "python",
   "pygments_lexer": "ipython3",
   "version": "3.9.13"
  }
 },
 "nbformat": 4,
 "nbformat_minor": 5
}
